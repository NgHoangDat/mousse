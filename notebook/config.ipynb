{
 "cells": [
  {
   "cell_type": "code",
   "execution_count": 1,
   "metadata": {},
   "outputs": [],
   "source": [
    "from typing import *\n",
    "from mousse import Config, Dataclass, asdict, asclass, Field, validate, parse, get_config, load_config"
   ]
  },
  {
   "cell_type": "code",
   "execution_count": 2,
   "metadata": {},
   "outputs": [],
   "source": [
    "config = load_config(\"foo\", path=\"config.yaml\")"
   ]
  },
  {
   "cell_type": "code",
   "execution_count": 3,
   "metadata": {},
   "outputs": [
    {
     "name": "stdout",
     "output_type": "stream",
     "text": [
      "foo Config(name=\"foo\", number=42.0, items=(Config(name=\"banana\", price=12), Config(name=\"egg\", price=10)), tokens=(1, 2, 3))\n",
      "id 1\n",
      "items ((Config(name=\"egg\"), Config(price=1113)), (Config(name=\"socola\"), Config(price=23423)), ((Config(name=\"eqw\"), Config(price=2334534)), (Config(name=\"wer\"), Config(price=2343))))\n"
     ]
    },
    {
     "data": {
      "text/plain": [
       "{'foo': Config(name=\"foo\", number=42.0, items=(Config(name=\"banana\", price=12), Config(name=\"egg\", price=10)), tokens=(1, 2, 3)),\n",
       " 'id': 1,\n",
       " 'items': ((Config(name=\"egg\"), Config(price=1113)),\n",
       "  (Config(name=\"socola\"), Config(price=23423)),\n",
       "  ((Config(name=\"eqw\"), Config(price=2334534)),\n",
       "   (Config(name=\"wer\"), Config(price=2343))))}"
      ]
     },
     "execution_count": 3,
     "metadata": {},
     "output_type": "execute_result"
    }
   ],
   "source": [
    "asdict(config)"
   ]
  },
  {
   "cell_type": "code",
   "execution_count": 18,
   "metadata": {},
   "outputs": [
    {
     "data": {
      "text/plain": [
       "Config(tokens=(1, 2, 3))"
      ]
     },
     "execution_count": 18,
     "metadata": {},
     "output_type": "execute_result"
    }
   ],
   "source": [
    "config.foo"
   ]
  },
  {
   "cell_type": "code",
   "execution_count": 14,
   "metadata": {},
   "outputs": [],
   "source": [
    "config.foo.name = \"a\""
   ]
  },
  {
   "cell_type": "code",
   "execution_count": 15,
   "metadata": {},
   "outputs": [
    {
     "ename": "TypeError",
     "evalue": "'tuple' object does not support item assignment",
     "output_type": "error",
     "traceback": [
      "\u001b[0;31m---------------------------------------------------------------------------\u001b[0m",
      "\u001b[0;31mTypeError\u001b[0m                                 Traceback (most recent call last)",
      "\u001b[1;32m/home/VAI-DatNH21-L/git/dev/mousse/notebook/config.ipynb Cell 15'\u001b[0m in \u001b[0;36m<cell line: 1>\u001b[0;34m()\u001b[0m\n\u001b[0;32m----> <a href='vscode-notebook-cell:/home/VAI-DatNH21-L/git/dev/mousse/notebook/config.ipynb#ch0000032?line=0'>1</a>\u001b[0m config\u001b[39m.\u001b[39mfoo\u001b[39m.\u001b[39mtokens[\u001b[39m0\u001b[39m] \u001b[39m=\u001b[39m \u001b[39m1\u001b[39m\n",
      "\u001b[0;31mTypeError\u001b[0m: 'tuple' object does not support item assignment"
     ]
    }
   ],
   "source": [
    "config.foo.tokens[0] = 1"
   ]
  },
  {
   "cell_type": "code",
   "execution_count": null,
   "metadata": {},
   "outputs": [],
   "source": [
    "config.foo.name = 1"
   ]
  },
  {
   "cell_type": "code",
   "execution_count": 19,
   "metadata": {},
   "outputs": [
    {
     "data": {
      "text/plain": [
       "1"
      ]
     },
     "execution_count": 19,
     "metadata": {},
     "output_type": "execute_result"
    }
   ],
   "source": [
    "config.foo.name"
   ]
  },
  {
   "cell_type": "code",
   "execution_count": null,
   "metadata": {},
   "outputs": [],
   "source": []
  }
 ],
 "metadata": {
  "interpreter": {
   "hash": "410031b40c5a7c9ab458d1e1891294bd758324dd174cf6ba8db7a62b614ef71d"
  },
  "kernelspec": {
   "display_name": "Python 3 (ipykernel)",
   "language": "python",
   "name": "python3"
  },
  "language_info": {
   "codemirror_mode": {
    "name": "ipython",
    "version": 3
   },
   "file_extension": ".py",
   "mimetype": "text/x-python",
   "name": "python",
   "nbconvert_exporter": "python",
   "pygments_lexer": "ipython3",
   "version": "3.8.13"
  }
 },
 "nbformat": 4,
 "nbformat_minor": 2
}
