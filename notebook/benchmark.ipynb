{
 "cells": [
  {
   "cell_type": "code",
   "execution_count": 1,
   "id": "2797d577",
   "metadata": {},
   "outputs": [],
   "source": [
    "from mousse import Dataclass, validate"
   ]
  },
  {
   "cell_type": "code",
   "execution_count": 2,
   "id": "64e18514",
   "metadata": {},
   "outputs": [],
   "source": [
    "class Foo(Dataclass, strict=True):\n",
    "    name: str\n",
    "    age: float\n",
    "   \n",
    "\n",
    "@Foo.age.setter()\n",
    "def ensure_float(val: int) -> float:\n",
    "    return float(val)\n",
    "\n",
    "@Foo.name.getter()\n",
    "def upper(val: str) -> str:\n",
    "    print(val)\n",
    "    return val.upper()"
   ]
  },
  {
   "cell_type": "code",
   "execution_count": 3,
   "id": "b3eee2c7",
   "metadata": {},
   "outputs": [
    {
     "name": "stdout",
     "output_type": "stream",
     "text": [
      "CPU times: user 91 µs, sys: 1e+03 ns, total: 92 µs\n",
      "Wall time: 96.1 µs\n"
     ]
    },
    {
     "data": {
      "text/plain": [
       "True"
      ]
     },
     "execution_count": 3,
     "metadata": {},
     "output_type": "execute_result"
    }
   ],
   "source": [
    "%time validate(Foo, {\"name\": \"h\", \"age\": 28.0}, as_schema=True)"
   ]
  },
  {
   "cell_type": "code",
   "execution_count": 4,
   "id": "a35c2144",
   "metadata": {},
   "outputs": [],
   "source": [
    "foo = Foo(name=\"datnh21\", age=26)"
   ]
  },
  {
   "cell_type": "code",
   "execution_count": 6,
   "id": "91f3324c",
   "metadata": {},
   "outputs": [
    {
     "name": "stdout",
     "output_type": "stream",
     "text": [
      "datnh21\n"
     ]
    },
    {
     "data": {
      "text/plain": [
       "'DATNH21'"
      ]
     },
     "execution_count": 6,
     "metadata": {},
     "output_type": "execute_result"
    }
   ],
   "source": [
    "foo.name"
   ]
  },
  {
   "cell_type": "code",
   "execution_count": null,
   "id": "18500d0f",
   "metadata": {},
   "outputs": [],
   "source": []
  }
 ],
 "metadata": {
  "kernelspec": {
   "display_name": "Python 3 (ipykernel)",
   "language": "python",
   "name": "python3"
  },
  "language_info": {
   "codemirror_mode": {
    "name": "ipython",
    "version": 3
   },
   "file_extension": ".py",
   "mimetype": "text/x-python",
   "name": "python",
   "nbconvert_exporter": "python",
   "pygments_lexer": "ipython3",
   "version": "3.8.13"
  }
 },
 "nbformat": 4,
 "nbformat_minor": 5
}
