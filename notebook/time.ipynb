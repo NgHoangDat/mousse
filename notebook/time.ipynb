{
 "cells": [
  {
   "cell_type": "code",
   "execution_count": 5,
   "metadata": {},
   "outputs": [],
   "source": [
    "from datetime import datetime, timedelta\n",
    "from functools import partial\n",
    "from typing import *\n",
    "from typing import Callable\n",
    "\n",
    "from dateutil.relativedelta import relativedelta"
   ]
  },
  {
   "cell_type": "code",
   "execution_count": 6,
   "metadata": {},
   "outputs": [],
   "source": [
    "Moment = Union[int, Tuple[int, ...]]"
   ]
  },
  {
   "cell_type": "code",
   "execution_count": 7,
   "metadata": {},
   "outputs": [],
   "source": [
    "def get_closest_time(\n",
    "    next_run_getter: Callable,\n",
    "    now: datetime,\n",
    "    pivot: datetime,\n",
    "    delta: timedelta,\n",
    "    **kwargs\n",
    "):\n",
    "    while True:\n",
    "        next_run = next_run_getter(pivot, **kwargs)\n",
    "        if next_run > now:\n",
    "            return next_run\n",
    "    \n",
    "        pivot += delta\n",
    "        \n",
    "        \n"
   ]
  },
  {
   "cell_type": "code",
   "execution_count": null,
   "metadata": {},
   "outputs": [],
   "source": [
    "def get_next_month(now: datetime, pivot: datetime = None, month: Moment = 0, **kwargs):\n",
    "    if month:\n",
    "        if type(month) is tuple:\n",
    "            candiates = []\n",
    "            for momment in month:\n",
    "                candiate = get_next_month(now, pivot=pivot, month=momment, **kwargs)\n",
    "                candiates.append(candiate)\n",
    "                \n",
    "            candiates.sort()\n",
    "            return candiates.pop(0)\n",
    "        else:\n",
    "            return get_closest_time(get_next_week, now, pivot=pivot, delta=relativedelta(years=1), **kwargs)\n",
    "        \n",
    "    return get_next_weak(now, pivot=pivot, **kwargs)\n",
    "\n",
    "\n",
    "\n",
    "def get_next_year(now: datetime, pivot: datetime = None, year: Moment = 0, **kwargs):\n",
    "    if year:\n",
    "        if type(year) is tuple:\n",
    "            candiates = []\n",
    "            for momment in year:\n",
    "                candiate = get_next_year(now, pivot=pivot, year=momment, **kwargs)\n",
    "                candiates.append(candiate)\n",
    "                \n",
    "            candiates.sort()\n",
    "            return candiates.pop(0)\n",
    "        else:\n",
    "            pivot = pivot or datetime(year=year, month=1, day=1)\n",
    "            return get_closest_time(get_next_month, now, pivot=pivot, delta=relativedelta(), **kwargs)\n",
    "        \n",
    "    return get_next_month(now, pivot=pivot, **kwargs)       "
   ]
  },
  {
   "cell_type": "code",
   "execution_count": 8,
   "metadata": {},
   "outputs": [],
   "source": [
    "now = datetime.now()"
   ]
  },
  {
   "cell_type": "code",
   "execution_count": 9,
   "metadata": {},
   "outputs": [
    {
     "data": {
      "text/plain": [
       "datetime.datetime(2022, 5, 10, 0, 20, 48, 563401)"
      ]
     },
     "execution_count": 9,
     "metadata": {},
     "output_type": "execute_result"
    }
   ],
   "source": [
    "now"
   ]
  },
  {
   "cell_type": "code",
   "execution_count": 10,
   "metadata": {},
   "outputs": [
    {
     "data": {
      "text/plain": [
       "datetime.datetime(2022, 5, 10, 0, 20, 48, 563401)"
      ]
     },
     "execution_count": 10,
     "metadata": {},
     "output_type": "execute_result"
    }
   ],
   "source": [
    "now + timedelta()"
   ]
  },
  {
   "cell_type": "code",
   "execution_count": 12,
   "metadata": {},
   "outputs": [
    {
     "data": {
      "text/plain": [
       "relativedelta(months=+1)"
      ]
     },
     "execution_count": 12,
     "metadata": {},
     "output_type": "execute_result"
    }
   ],
   "source": [
    "relativedelta(months=1)"
   ]
  },
  {
   "cell_type": "code",
   "execution_count": 15,
   "metadata": {},
   "outputs": [
    {
     "data": {
      "text/plain": [
       "1"
      ]
     },
     "execution_count": 15,
     "metadata": {},
     "output_type": "execute_result"
    }
   ],
   "source": [
    "now.weekday()"
   ]
  },
  {
   "cell_type": "code",
   "execution_count": 17,
   "metadata": {},
   "outputs": [
    {
     "data": {
      "text/plain": [
       "1"
      ]
     },
     "execution_count": 17,
     "metadata": {},
     "output_type": "execute_result"
    }
   ],
   "source": [
    "now.weekday()"
   ]
  },
  {
   "cell_type": "code",
   "execution_count": null,
   "metadata": {},
   "outputs": [],
   "source": []
  }
 ],
 "metadata": {
  "interpreter": {
   "hash": "a1c1b524d93823f3badcbe66e28ec8b07d2e6a2c807ed07bd1cd6806256258a3"
  },
  "kernelspec": {
   "display_name": "Python 3.8.13 (conda)",
   "language": "python",
   "name": "python3"
  },
  "language_info": {
   "codemirror_mode": {
    "name": "ipython",
    "version": 3
   },
   "file_extension": ".py",
   "mimetype": "text/x-python",
   "name": "python",
   "nbconvert_exporter": "python",
   "pygments_lexer": "ipython3",
   "version": "3.8.13"
  },
  "orig_nbformat": 4
 },
 "nbformat": 4,
 "nbformat_minor": 2
}
