{
 "cells": [
  {
   "cell_type": "code",
   "execution_count": 73,
   "id": "4cf6826e",
   "metadata": {},
   "outputs": [],
   "source": [
    "import inspect\n",
    "from inspect import Parameter\n",
    "from functools import wraps\n",
    "from typing import *\n",
    "\n",
    "from mousse import validate, parse"
   ]
  },
  {
   "cell_type": "code",
   "execution_count": 79,
   "id": "640db684",
   "metadata": {},
   "outputs": [],
   "source": [
    "def foo(name, age: int, school: str, address: str = None):\n",
    "    print(name, age, school, address)\n",
    "    \n",
    "@wraps(foo)\n",
    "def bar(*args, **kwargs):\n",
    "    return foo(*args, **kwargs)"
   ]
  },
  {
   "cell_type": "code",
   "execution_count": null,
   "id": "b0d63cc0",
   "metadata": {},
   "outputs": [],
   "source": [
    "def check_type(func: Callable = None, param_annotation: bool = True, return_annotation: bool = True):\n",
    "    def decorator(func: Callable):\n",
    "        signature = inspect.signature(func)\n",
    "        parameters = signature.parameters.values()\n",
    "        positional_parameters = [\n",
    "            parameter for parameter in parameters \n",
    "            if parameter.kind in (Parameter.POSITIONAL_ONLY, Parameter.POSITIONAL_OR_KEYWORD)\n",
    "        ]\n",
    "        \n",
    "        @wraps(func)\n",
    "        def wrapper(*args, **kwargs):\n",
    "            if param_annotation:\n",
    "                flags = []\n",
    "                for parameter in parameters:\n",
    "                    flag.append(\n",
    "                        parameter.kind in (Parameter.VAR_POSITIONAL, Parameter.VAR_KEYWORD) \\\n",
    "                        or parameter.annotation in (inspect._empty, Any)\n",
    "                    )\n",
    "                \n",
    "                args_iter = iter(args)\n",
    "                for i, (parameter, arg) in enumerate(zip(parameters, args)):\n",
    "        \n",
    "            output = func(*args, **kwargs)\n",
    "            if return_annotation and signature.return_annotation is not inspect._empty:\n",
    "                assert validate(signature.return_annotation, output), \\\n",
    "                    f\"Incorrect return type: {type(output)}. Correct return type: {signature.return_annotation}\"\n",
    "        \n",
    "            return output\n",
    "        \n",
    "        return wrapper\n",
    "    \n",
    "    if func is not None:\n",
    "        return decorator(func)\n",
    "    \n",
    "    return decorator"
   ]
  },
  {
   "cell_type": "code",
   "execution_count": 80,
   "id": "35f8cef7",
   "metadata": {},
   "outputs": [],
   "source": [
    "signature = inspect.signature(foo)"
   ]
  },
  {
   "cell_type": "code",
   "execution_count": 81,
   "id": "609c531f",
   "metadata": {},
   "outputs": [
    {
     "data": {
      "text/plain": [
       "mappingproxy({'name': <Parameter \"name\">,\n",
       "              'age': <Parameter \"age: int\">,\n",
       "              'school': <Parameter \"school: str\">,\n",
       "              'address': <Parameter \"address: str = None\">})"
      ]
     },
     "execution_count": 81,
     "metadata": {},
     "output_type": "execute_result"
    }
   ],
   "source": [
    "signature.parameters"
   ]
  },
  {
   "cell_type": "code",
   "execution_count": 83,
   "id": "14a004c4",
   "metadata": {},
   "outputs": [
    {
     "data": {
      "text/plain": [
       "inspect._empty"
      ]
     },
     "execution_count": 83,
     "metadata": {},
     "output_type": "execute_result"
    }
   ],
   "source": [
    "param = signature.parameters[\"name\"]\n",
    "param.annotation"
   ]
  },
  {
   "cell_type": "code",
   "execution_count": 66,
   "id": "09d93eb3",
   "metadata": {},
   "outputs": [
    {
     "name": "stdout",
     "output_type": "stream",
     "text": [
      "a 1 None {}\n"
     ]
    }
   ],
   "source": [
    "foo('a', 1, school=None, address={})"
   ]
  },
  {
   "cell_type": "code",
   "execution_count": 69,
   "id": "8bd9d27b",
   "metadata": {},
   "outputs": [
    {
     "ename": "TypeError",
     "evalue": "foo() missing 3 required positional arguments: 'name', 'age', and 'school'",
     "output_type": "error",
     "traceback": [
      "\u001b[0;31m---------------------------------------------------------------------------\u001b[0m",
      "\u001b[0;31mTypeError\u001b[0m                                 Traceback (most recent call last)",
      "Input \u001b[0;32mIn [69]\u001b[0m, in \u001b[0;36m<cell line: 1>\u001b[0;34m()\u001b[0m\n\u001b[0;32m----> 1\u001b[0m \u001b[43mbar\u001b[49m\u001b[43m(\u001b[49m\u001b[43m)\u001b[49m\n",
      "Input \u001b[0;32mIn [67]\u001b[0m, in \u001b[0;36mbar\u001b[0;34m(*args, **kwargs)\u001b[0m\n\u001b[1;32m      4\u001b[0m \u001b[38;5;129m@wraps\u001b[39m(foo)\n\u001b[1;32m      5\u001b[0m \u001b[38;5;28;01mdef\u001b[39;00m \u001b[38;5;21mbar\u001b[39m(\u001b[38;5;241m*\u001b[39margs, \u001b[38;5;241m*\u001b[39m\u001b[38;5;241m*\u001b[39mkwargs):\n\u001b[0;32m----> 6\u001b[0m     \u001b[38;5;28;01mreturn\u001b[39;00m \u001b[43mfoo\u001b[49m\u001b[43m(\u001b[49m\u001b[38;5;241;43m*\u001b[39;49m\u001b[43margs\u001b[49m\u001b[43m,\u001b[49m\u001b[43m \u001b[49m\u001b[38;5;241;43m*\u001b[39;49m\u001b[38;5;241;43m*\u001b[39;49m\u001b[43mkwargs\u001b[49m\u001b[43m)\u001b[49m\n",
      "\u001b[0;31mTypeError\u001b[0m: foo() missing 3 required positional arguments: 'name', 'age', and 'school'"
     ]
    }
   ],
   "source": [
    "Parameter.POSITIONAL_ONLY"
   ]
  },
  {
   "cell_type": "code",
   "execution_count": 76,
   "id": "d289784f",
   "metadata": {},
   "outputs": [],
   "source": [
    "a = (1, 2, 3, 4, 5)\n",
    "a = iter(a)"
   ]
  },
  {
   "cell_type": "code",
   "execution_count": 77,
   "id": "f5fb0fe0",
   "metadata": {},
   "outputs": [
    {
     "data": {
      "text/plain": [
       "1"
      ]
     },
     "execution_count": 77,
     "metadata": {},
     "output_type": "execute_result"
    }
   ],
   "source": [
    "next(a)"
   ]
  },
  {
   "cell_type": "code",
   "execution_count": 78,
   "id": "b52fbe3a",
   "metadata": {},
   "outputs": [
    {
     "data": {
      "text/plain": [
       "[2, 3, 4, 5]"
      ]
     },
     "execution_count": 78,
     "metadata": {},
     "output_type": "execute_result"
    }
   ],
   "source": [
    "list(a)"
   ]
  },
  {
   "cell_type": "code",
   "execution_count": null,
   "id": "2a3fa604",
   "metadata": {},
   "outputs": [],
   "source": []
  }
 ],
 "metadata": {
  "kernelspec": {
   "display_name": "Python 3 (ipykernel)",
   "language": "python",
   "name": "python3"
  },
  "language_info": {
   "codemirror_mode": {
    "name": "ipython",
    "version": 3
   },
   "file_extension": ".py",
   "mimetype": "text/x-python",
   "name": "python",
   "nbconvert_exporter": "python",
   "pygments_lexer": "ipython3",
   "version": "3.8.13"
  }
 },
 "nbformat": 4,
 "nbformat_minor": 5
}
