{
 "cells": [
  {
   "cell_type": "code",
   "execution_count": 12,
   "id": "4cf6826e",
   "metadata": {},
   "outputs": [],
   "source": [
    "import inspect\n",
    "from functools import lru_cache\n",
    "from collections import OrderedDict\n",
    "from inspect import Parameter\n",
    "from functools import wraps\n",
    "from typing import *\n",
    "\n",
    "from mousse import validate, parse"
   ]
  },
  {
   "cell_type": "code",
   "execution_count": 58,
   "id": "1d29c2cb",
   "metadata": {},
   "outputs": [],
   "source": [
    "@lru_cache\n",
    "def get_func_validator(func: Callable):\n",
    "    signature = inspect.signature(func)\n",
    "    parameters = signature.parameters\n",
    "    parameters = OrderedDict(parameters.items())\n",
    "    \n",
    "    has_var_args = False\n",
    "    for param in parameters.values():\n",
    "        if param.kind == param.VAR_POSITIONAL:\n",
    "            has_var_args = True\n",
    "            break\n",
    "            \n",
    "    if has_var_args:\n",
    "        parameters.pop(param.name)\n",
    "    \n",
    "    has_var_kwargs = False\n",
    "    for param in parameters.values():\n",
    "        if param.kind == param.VAR_KEYWORD:\n",
    "            has_var_kwargs = True\n",
    "            break\n",
    "            \n",
    "    if has_var_kwargs:\n",
    "        parameters.pop(param.name)\n",
    "\n",
    "    positional_only_params = [\n",
    "        param for param in parameters.values()\n",
    "        if param.kind == param.POSITIONAL_ONLY\n",
    "    ]\n",
    "    \n",
    "    positional_or_keyword_params = [\n",
    "        param for param in parameters.values()\n",
    "        if param.kind == param.POSITIONAL_OR_KEYWORD\n",
    "    ]\n",
    "    \n",
    "    def validator(*args, **kwargs) -> Union[bool, str]:\n",
    "        l_parameters = parameters.copy()\n",
    "        \n",
    "        if len(positional_only_params) > len(args):\n",
    "            return False, \"Missing positional only params\"\n",
    "        \n",
    "        for arg, param in zip(args, positional_only_params):\n",
    "            l_parameters.pop(param.name)\n",
    "        \n",
    "            if param.annotation in (inspect._empty, Any):\n",
    "                continue\n",
    "\n",
    "            if not validate(param.annotation, arg):\n",
    "                return False, f\"Wrong type for {param.name}. Expect type {param.annotation.__name__}\"\n",
    "            \n",
    "        args = args[len(positional_only_params):]\n",
    "        \n",
    "        if len(args) > len(positional_or_keyword_params):\n",
    "            if not has_var_args:\n",
    "                return False, \"Too many arguments\"\n",
    "        \n",
    "        for arg, param in zip(args, positional_or_keyword_params):\n",
    "            l_parameters.pop(param.name)\n",
    "            if param.annotation in (inspect._empty, Any):\n",
    "                continue\n",
    "            \n",
    "            if param.default != param.empty and arg == param.default:\n",
    "                continue\n",
    "\n",
    "            if not validate(param.annotation, arg):\n",
    "                return False, f\"Wrong type for {param.name}. Expect type {param.annotation.__name__}\"\n",
    "\n",
    "            \n",
    "        for key in kwargs:\n",
    "            if key not in l_parameters:\n",
    "                if not has_var_kwargs:\n",
    "                    return False, f\"Unknown keyword argument: {key}\"\n",
    "        \n",
    "        for key, val in kwargs.items():\n",
    "            if key in l_parameters:\n",
    "                param = l_parameters.pop(key)\n",
    "                if param.annotation in (inspect._empty, Any):\n",
    "                    continue\n",
    "            \n",
    "                if param.default != param.empty and val == param.default:\n",
    "                    continue\n",
    "\n",
    "                if not validate(param.annotation, val):\n",
    "                    return False, f\"Wrong type for {param.name}. Expect type {param.annotation.__name__}\"\n",
    "            \n",
    "        for param in l_parameters.values():\n",
    "            if param.default == inspect._empty:\n",
    "                return False, f\"Missing value for {param.name}\"\n",
    "        \n",
    "        return True, \"\"\n",
    "    \n",
    "    return validator"
   ]
  },
  {
   "cell_type": "code",
   "execution_count": null,
   "id": "9286b768",
   "metadata": {},
   "outputs": [],
   "source": []
  },
  {
   "cell_type": "code",
   "execution_count": 59,
   "id": "afa46f30",
   "metadata": {},
   "outputs": [],
   "source": [
    "def validate_parameters(func: Callable, /, *args, **kwargs) -> Union[bool, str]:\n",
    "    validator = get_func_validator(func)\n",
    "    return validator(*args, **kwargs)"
   ]
  },
  {
   "cell_type": "code",
   "execution_count": 60,
   "id": "640db684",
   "metadata": {},
   "outputs": [],
   "source": [
    "def foo(name: str, age: int, school: str, address: str = None, **kwargs):\n",
    "    print(name, age, school, address)\n",
    "    \n",
    "@wraps(foo)\n",
    "def bar(*args, **kwargs):\n",
    "    return foo(*args, **kwargs)"
   ]
  },
  {
   "cell_type": "code",
   "execution_count": 61,
   "id": "b0d63cc0",
   "metadata": {},
   "outputs": [],
   "source": [
    "def type_checking(func: Callable = None, param_annotation: bool = True, return_annotation: bool = True):    \n",
    "    def decorator(func: Callable):        \n",
    "        signature = inspect.signature(func)\n",
    "\n",
    "        @wraps(func)\n",
    "        def wrapper(*args, **kwargs):\n",
    "            if param_annotation:\n",
    "                valid, err = validate_parameters(func, *args, **kwargs)\n",
    "                assert valid, err\n",
    "\n",
    "            output = func(*args, **kwargs)\n",
    "            if return_annotation and signature.return_annotation is not inspect._empty:\n",
    "                assert validate(signature.return_annotation, output), \\\n",
    "                    f\"Incorrect return type: {type(output)}. Correct return type: {signature.return_annotation}\"\n",
    "        \n",
    "            return output\n",
    "        \n",
    "        return wrapper\n",
    "    \n",
    "    if func is not None:\n",
    "        return decorator(func)\n",
    "    \n",
    "    return decorator"
   ]
  },
  {
   "cell_type": "code",
   "execution_count": 65,
   "id": "35f8cef7",
   "metadata": {},
   "outputs": [],
   "source": [
    "@type_checking\n",
    "def foo(name: str, age: int, school: str, address: str = None, **kwargs):\n",
    "    print(name, age, school, address)"
   ]
  },
  {
   "cell_type": "code",
   "execution_count": 70,
   "id": "561ad78c",
   "metadata": {},
   "outputs": [
    {
     "ename": "AssertionError",
     "evalue": "Too many arguments",
     "output_type": "error",
     "traceback": [
      "\u001b[0;31m---------------------------------------------------------------------------\u001b[0m",
      "\u001b[0;31mAssertionError\u001b[0m                            Traceback (most recent call last)",
      "\u001b[1;32m/home/VAI-DatNH21-L/git/dev/mousse/notebook/type_check.ipynb Cell 8\u001b[0m in \u001b[0;36m<cell line: 1>\u001b[0;34m()\u001b[0m\n\u001b[0;32m----> <a href='vscode-notebook-cell:/home/VAI-DatNH21-L/git/dev/mousse/notebook/type_check.ipynb#ch0000017?line=0'>1</a>\u001b[0m foo(\u001b[39m\"\u001b[39;49m\u001b[39ma\u001b[39;49m\u001b[39m\"\u001b[39;49m, \u001b[39m1\u001b[39;49m, \u001b[39m\"\u001b[39;49m\u001b[39mHUST\u001b[39;49m\u001b[39m\"\u001b[39;49m, \u001b[39mNone\u001b[39;49;00m, \u001b[39m1\u001b[39;49m)\n",
      "\u001b[1;32m/home/VAI-DatNH21-L/git/dev/mousse/notebook/type_check.ipynb Cell 8\u001b[0m in \u001b[0;36mtype_checking.<locals>.decorator.<locals>.wrapper\u001b[0;34m(*args, **kwargs)\u001b[0m\n\u001b[1;32m      <a href='vscode-notebook-cell:/home/VAI-DatNH21-L/git/dev/mousse/notebook/type_check.ipynb#ch0000017?line=6'>7</a>\u001b[0m \u001b[39mif\u001b[39;00m param_annotation:\n\u001b[1;32m      <a href='vscode-notebook-cell:/home/VAI-DatNH21-L/git/dev/mousse/notebook/type_check.ipynb#ch0000017?line=7'>8</a>\u001b[0m     valid, err \u001b[39m=\u001b[39m validate_parameters(func, \u001b[39m*\u001b[39margs, \u001b[39m*\u001b[39m\u001b[39m*\u001b[39mkwargs)\n\u001b[0;32m----> <a href='vscode-notebook-cell:/home/VAI-DatNH21-L/git/dev/mousse/notebook/type_check.ipynb#ch0000017?line=8'>9</a>\u001b[0m     \u001b[39massert\u001b[39;00m valid, err\n\u001b[1;32m     <a href='vscode-notebook-cell:/home/VAI-DatNH21-L/git/dev/mousse/notebook/type_check.ipynb#ch0000017?line=10'>11</a>\u001b[0m output \u001b[39m=\u001b[39m func(\u001b[39m*\u001b[39margs, \u001b[39m*\u001b[39m\u001b[39m*\u001b[39mkwargs)\n\u001b[1;32m     <a href='vscode-notebook-cell:/home/VAI-DatNH21-L/git/dev/mousse/notebook/type_check.ipynb#ch0000017?line=11'>12</a>\u001b[0m \u001b[39mif\u001b[39;00m return_annotation \u001b[39mand\u001b[39;00m signature\u001b[39m.\u001b[39mreturn_annotation \u001b[39mis\u001b[39;00m \u001b[39mnot\u001b[39;00m inspect\u001b[39m.\u001b[39m_empty:\n",
      "\u001b[0;31mAssertionError\u001b[0m: Too many arguments"
     ]
    }
   ],
   "source": [
    "foo(\"a\", 1, \"HUST\", None, 1)"
   ]
  },
  {
   "cell_type": "code",
   "execution_count": 39,
   "id": "609c531f",
   "metadata": {},
   "outputs": [
    {
     "data": {
      "text/plain": [
       "<_ParameterKind.POSITIONAL_OR_KEYWORD: 1>"
      ]
     },
     "execution_count": 39,
     "metadata": {},
     "output_type": "execute_result"
    }
   ],
   "source": [
    "inspect.signature(foo).parameters[\"address\"].kind"
   ]
  },
  {
   "cell_type": "code",
   "execution_count": 6,
   "id": "8bd9d27b",
   "metadata": {},
   "outputs": [
    {
     "data": {
      "text/plain": [
       "True"
      ]
     },
     "execution_count": 6,
     "metadata": {},
     "output_type": "execute_result"
    }
   ],
   "source": [
    "None == None"
   ]
  },
  {
   "cell_type": "code",
   "execution_count": 76,
   "id": "d289784f",
   "metadata": {},
   "outputs": [],
   "source": [
    "a = (1, 2, 3, 4, 5)\n",
    "a = iter(a)"
   ]
  },
  {
   "cell_type": "code",
   "execution_count": 9,
   "id": "f5fb0fe0",
   "metadata": {},
   "outputs": [
    {
     "name": "stderr",
     "output_type": "stream",
     "text": [
      "<>:2: SyntaxWarning: \"is\" with a literal. Did you mean \"==\"?\n",
      "<>:2: SyntaxWarning: \"is\" with a literal. Did you mean \"==\"?\n",
      "/tmp/ipykernel_12481/3780910533.py:2: SyntaxWarning: \"is\" with a literal. Did you mean \"==\"?\n",
      "  a is 1\n"
     ]
    },
    {
     "data": {
      "text/plain": [
       "True"
      ]
     },
     "execution_count": 9,
     "metadata": {},
     "output_type": "execute_result"
    }
   ],
   "source": [
    "a = 1\n",
    "a is 1"
   ]
  },
  {
   "cell_type": "code",
   "execution_count": 3,
   "id": "b52fbe3a",
   "metadata": {},
   "outputs": [],
   "source": [
    "class Foo:\n",
    "    def __init__(self, **kwargs):\n",
    "        for key, val in kwargs.items():\n",
    "            setattr(self, key, val)\n",
    "            \n",
    "    def show(self):\n",
    "        print(self.a)"
   ]
  },
  {
   "cell_type": "code",
   "execution_count": 4,
   "id": "2a3fa604",
   "metadata": {},
   "outputs": [],
   "source": [
    "a = Foo(a=1, b=2)"
   ]
  },
  {
   "cell_type": "code",
   "execution_count": 5,
   "id": "b3f5877c",
   "metadata": {},
   "outputs": [
    {
     "name": "stdout",
     "output_type": "stream",
     "text": [
      "1\n"
     ]
    }
   ],
   "source": [
    "a.show()"
   ]
  }
 ],
 "metadata": {
  "kernelspec": {
   "display_name": "Python 3.8.13 (conda)",
   "language": "python",
   "name": "python3"
  },
  "language_info": {
   "codemirror_mode": {
    "name": "ipython",
    "version": 3
   },
   "file_extension": ".py",
   "mimetype": "text/x-python",
   "name": "python",
   "nbconvert_exporter": "python",
   "pygments_lexer": "ipython3",
   "version": "3.8.13"
  },
  "vscode": {
   "interpreter": {
    "hash": "410031b40c5a7c9ab458d1e1891294bd758324dd174cf6ba8db7a62b614ef71d"
   }
  }
 },
 "nbformat": 4,
 "nbformat_minor": 5
}
