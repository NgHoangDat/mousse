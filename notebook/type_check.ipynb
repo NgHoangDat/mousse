{
 "cells": [
  {
   "cell_type": "code",
   "execution_count": 3,
   "id": "4cf6826e",
   "metadata": {},
   "outputs": [],
   "source": [
    "import inspect\n",
    "from collections import OrderedDict\n",
    "from inspect import Parameter\n",
    "from functools import wraps\n",
    "from typing import *\n",
    "\n",
    "from mousse import validate, parse"
   ]
  },
  {
   "cell_type": "code",
   "execution_count": 11,
   "id": "afa46f30",
   "metadata": {},
   "outputs": [],
   "source": [
    "def validate_args_type(func: Callable, /, *args, **kwargs) -> Union[bool, str]:\n",
    "    signature = inspect.signature(func)\n",
    "    parameters = signature.parameters\n",
    "    \n",
    "    parameters = OrderedDict(parameters.items())\n",
    "    score = 0\n",
    "    kwargs = kwargs.copy()\n",
    "    \n",
    "    has_var_args = False\n",
    "    for param in parameters.values():\n",
    "        if param.kind == param.VAR_POSITIONAL:\n",
    "            has_var_args = True\n",
    "            break\n",
    "            \n",
    "    if has_var_args:\n",
    "        parameters.pop(param.name)\n",
    "        \n",
    "    has_var_kwargs = False\n",
    "    for param in parameters.values():\n",
    "        if param.kind == param.VAR_KEYWORD:\n",
    "            has_var_kwargs = True\n",
    "            break\n",
    "            \n",
    "    if has_var_kwargs:\n",
    "        parameters.pop(param.name)\n",
    "\n",
    "    positional_only_params = [\n",
    "        param for param in parameters.values()\n",
    "        if param.kind == param.POSITIONAL_ONLY\n",
    "    ]\n",
    "\n",
    "    if len(positional_only_params) > len(args):\n",
    "        return False, \"Missing positional only params\"\n",
    "    \n",
    "    for arg, param in zip(args, positional_only_params):\n",
    "        parameters.pop(param.name)\n",
    "    \n",
    "        if param.annotation in (inspect._empty, Any):\n",
    "            continue\n",
    "\n",
    "        if not validate(param.annotation, arg):\n",
    "            return False, f\"Wrong type for {param.name}. Expect type {param.annotation.__name__}\"\n",
    "        \n",
    "    args = args[len(positional_only_params):]\n",
    "    \n",
    "    positional_or_keyword_params = [\n",
    "        param for param in parameters.values()\n",
    "        if param.kind == param.POSITIONAL_OR_KEYWORD\n",
    "    ]\n",
    "    \n",
    "    if len(args) > len(positional_or_keyword_params):\n",
    "        if not has_var_args:\n",
    "            return False, \"Too many arguments\"\n",
    "    \n",
    "    for arg, param in zip(args, positional_or_keyword_params):\n",
    "        parameters.pop(param.name)\n",
    "        if param.annotation in (inspect._empty, Any):\n",
    "            continue\n",
    "\n",
    "        if not validate(param.annotation, arg):\n",
    "            return False, f\"Wrong type for {param.name}. Expect type {param.annotation.__name__}\"\n",
    "\n",
    "        \n",
    "    for key in kwargs:\n",
    "        if key not in parameters:\n",
    "            if not has_var_kwargs:\n",
    "                return False, f\"Unknown keyword argument: {key}\"\n",
    "    \n",
    "    for key, val in kwargs.items():\n",
    "        if key in parameters:\n",
    "            param = parameters.pop(key)\n",
    "            if param.annotation in (inspect._empty, Any):\n",
    "                continue\n",
    "                \n",
    "            if not validate(param.annotation, val):\n",
    "                return False, f\"Wrong type for {param.name}. Expect type {param.annotation.__name__}\"\n",
    "        \n",
    "    for param in parameters.values():\n",
    "        if param.default == inspect._empty:\n",
    "            return False, f\"Missing value for {param.name}\"\n",
    "    \n",
    "    return True, \"\""
   ]
  },
  {
   "cell_type": "code",
   "execution_count": 20,
   "id": "640db684",
   "metadata": {},
   "outputs": [],
   "source": [
    "def foo(name: str, age: int, school: str, address: str = None, **kwargs):\n",
    "    print(name, age, school, address)\n",
    "    \n",
    "@wraps(foo)\n",
    "def bar(*args, **kwargs):\n",
    "    return foo(*args, **kwargs)"
   ]
  },
  {
   "cell_type": "code",
   "execution_count": 21,
   "id": "fc7cc959",
   "metadata": {},
   "outputs": [
    {
     "data": {
      "text/plain": [
       "(True, '')"
      ]
     },
     "execution_count": 21,
     "metadata": {},
     "output_type": "execute_result"
    }
   ],
   "source": [
    "validate_args_type(foo, \"Dat\", 19, \"TL\", degree=\"Msc\")"
   ]
  },
  {
   "cell_type": "code",
   "execution_count": 22,
   "id": "b0d63cc0",
   "metadata": {},
   "outputs": [],
   "source": [
    "def validate_signature(func: Callable = None, param_annotation: bool = True, return_annotation: bool = True):\n",
    "    def decorator(func: Callable):        \n",
    "        signature = inspect.signature(func)\n",
    "\n",
    "        @wraps(func)\n",
    "        def wrapper(*args, **kwargs):\n",
    "            if param_annotation:\n",
    "                valid, err = validate_args_type(func, *args, **kwargs)\n",
    "                assert valid, err\n",
    "\n",
    "            output = func(*args, **kwargs)\n",
    "            if return_annotation and signature.return_annotation is not inspect._empty:\n",
    "                assert validate(signature.return_annotation, output), \\\n",
    "                    f\"Incorrect return type: {type(output)}. Correct return type: {signature.return_annotation}\"\n",
    "        \n",
    "            return output\n",
    "        \n",
    "        return wrapper\n",
    "    \n",
    "    if func is not None:\n",
    "        return decorator(func)\n",
    "    \n",
    "    return decorator"
   ]
  },
  {
   "cell_type": "code",
   "execution_count": 23,
   "id": "35f8cef7",
   "metadata": {},
   "outputs": [],
   "source": [
    "@validate_signature\n",
    "def foo(name: str, age: int, school: str, address: str = None, **kwargs):\n",
    "    print(name, age, school, address)"
   ]
  },
  {
   "cell_type": "code",
   "execution_count": 25,
   "id": "609c531f",
   "metadata": {},
   "outputs": [
    {
     "ename": "AssertionError",
     "evalue": "Wrong type for name. Expect type str",
     "output_type": "error",
     "traceback": [
      "\u001b[0;31m---------------------------------------------------------------------------\u001b[0m",
      "\u001b[0;31mAssertionError\u001b[0m                            Traceback (most recent call last)",
      "\u001b[1;32m/home/VAI-DatNH21-L/git/dev/mousse/notebook/type_check.ipynb Cell 7\u001b[0m in \u001b[0;36m<cell line: 1>\u001b[0;34m()\u001b[0m\n\u001b[0;32m----> <a href='vscode-notebook-cell:/home/VAI-DatNH21-L/git/dev/mousse/notebook/type_check.ipynb#ch0000004?line=0'>1</a>\u001b[0m foo(\u001b[39m12\u001b[39;49m, \u001b[39m18\u001b[39;49m, \u001b[39m\"\u001b[39;49m\u001b[39mHUST\u001b[39;49m\u001b[39m\"\u001b[39;49m)\n",
      "\u001b[1;32m/home/VAI-DatNH21-L/git/dev/mousse/notebook/type_check.ipynb Cell 7\u001b[0m in \u001b[0;36mvalidate_signature.<locals>.decorator.<locals>.wrapper\u001b[0;34m(*args, **kwargs)\u001b[0m\n\u001b[1;32m      <a href='vscode-notebook-cell:/home/VAI-DatNH21-L/git/dev/mousse/notebook/type_check.ipynb#ch0000004?line=6'>7</a>\u001b[0m \u001b[39mif\u001b[39;00m param_annotation:\n\u001b[1;32m      <a href='vscode-notebook-cell:/home/VAI-DatNH21-L/git/dev/mousse/notebook/type_check.ipynb#ch0000004?line=7'>8</a>\u001b[0m     valid, err \u001b[39m=\u001b[39m validate_args_type(func, \u001b[39m*\u001b[39margs, \u001b[39m*\u001b[39m\u001b[39m*\u001b[39mkwargs)\n\u001b[0;32m----> <a href='vscode-notebook-cell:/home/VAI-DatNH21-L/git/dev/mousse/notebook/type_check.ipynb#ch0000004?line=8'>9</a>\u001b[0m     \u001b[39massert\u001b[39;00m valid, err\n\u001b[1;32m     <a href='vscode-notebook-cell:/home/VAI-DatNH21-L/git/dev/mousse/notebook/type_check.ipynb#ch0000004?line=10'>11</a>\u001b[0m output \u001b[39m=\u001b[39m func(\u001b[39m*\u001b[39margs, \u001b[39m*\u001b[39m\u001b[39m*\u001b[39mkwargs)\n\u001b[1;32m     <a href='vscode-notebook-cell:/home/VAI-DatNH21-L/git/dev/mousse/notebook/type_check.ipynb#ch0000004?line=11'>12</a>\u001b[0m \u001b[39mif\u001b[39;00m return_annotation \u001b[39mand\u001b[39;00m signature\u001b[39m.\u001b[39mreturn_annotation \u001b[39mis\u001b[39;00m \u001b[39mnot\u001b[39;00m inspect\u001b[39m.\u001b[39m_empty:\n",
      "\u001b[0;31mAssertionError\u001b[0m: Wrong type for name. Expect type str"
     ]
    }
   ],
   "source": [
    "foo(12, 18, \"HUST\")"
   ]
  },
  {
   "cell_type": "code",
   "execution_count": 83,
   "id": "14a004c4",
   "metadata": {},
   "outputs": [
    {
     "data": {
      "text/plain": [
       "inspect._empty"
      ]
     },
     "execution_count": 83,
     "metadata": {},
     "output_type": "execute_result"
    }
   ],
   "source": [
    "param = signature.parameters[\"name\"]\n",
    "param.annotation"
   ]
  },
  {
   "cell_type": "code",
   "execution_count": 66,
   "id": "09d93eb3",
   "metadata": {},
   "outputs": [
    {
     "name": "stdout",
     "output_type": "stream",
     "text": [
      "a 1 None {}\n"
     ]
    }
   ],
   "source": [
    "foo('a', 1, school=None, address={})"
   ]
  },
  {
   "cell_type": "code",
   "execution_count": 69,
   "id": "8bd9d27b",
   "metadata": {},
   "outputs": [
    {
     "ename": "TypeError",
     "evalue": "foo() missing 3 required positional arguments: 'name', 'age', and 'school'",
     "output_type": "error",
     "traceback": [
      "\u001b[0;31m---------------------------------------------------------------------------\u001b[0m",
      "\u001b[0;31mTypeError\u001b[0m                                 Traceback (most recent call last)",
      "Input \u001b[0;32mIn [69]\u001b[0m, in \u001b[0;36m<cell line: 1>\u001b[0;34m()\u001b[0m\n\u001b[0;32m----> 1\u001b[0m \u001b[43mbar\u001b[49m\u001b[43m(\u001b[49m\u001b[43m)\u001b[49m\n",
      "Input \u001b[0;32mIn [67]\u001b[0m, in \u001b[0;36mbar\u001b[0;34m(*args, **kwargs)\u001b[0m\n\u001b[1;32m      4\u001b[0m \u001b[38;5;129m@wraps\u001b[39m(foo)\n\u001b[1;32m      5\u001b[0m \u001b[38;5;28;01mdef\u001b[39;00m \u001b[38;5;21mbar\u001b[39m(\u001b[38;5;241m*\u001b[39margs, \u001b[38;5;241m*\u001b[39m\u001b[38;5;241m*\u001b[39mkwargs):\n\u001b[0;32m----> 6\u001b[0m     \u001b[38;5;28;01mreturn\u001b[39;00m \u001b[43mfoo\u001b[49m\u001b[43m(\u001b[49m\u001b[38;5;241;43m*\u001b[39;49m\u001b[43margs\u001b[49m\u001b[43m,\u001b[49m\u001b[43m \u001b[49m\u001b[38;5;241;43m*\u001b[39;49m\u001b[38;5;241;43m*\u001b[39;49m\u001b[43mkwargs\u001b[49m\u001b[43m)\u001b[49m\n",
      "\u001b[0;31mTypeError\u001b[0m: foo() missing 3 required positional arguments: 'name', 'age', and 'school'"
     ]
    }
   ],
   "source": [
    "Parameter.POSITIONAL_ONLY"
   ]
  },
  {
   "cell_type": "code",
   "execution_count": 76,
   "id": "d289784f",
   "metadata": {},
   "outputs": [],
   "source": [
    "a = (1, 2, 3, 4, 5)\n",
    "a = iter(a)"
   ]
  },
  {
   "cell_type": "code",
   "execution_count": 77,
   "id": "f5fb0fe0",
   "metadata": {},
   "outputs": [
    {
     "data": {
      "text/plain": [
       "1"
      ]
     },
     "execution_count": 77,
     "metadata": {},
     "output_type": "execute_result"
    }
   ],
   "source": [
    "next(a)"
   ]
  },
  {
   "cell_type": "code",
   "execution_count": 78,
   "id": "b52fbe3a",
   "metadata": {},
   "outputs": [
    {
     "data": {
      "text/plain": [
       "[2, 3, 4, 5]"
      ]
     },
     "execution_count": 78,
     "metadata": {},
     "output_type": "execute_result"
    }
   ],
   "source": [
    "list(a)"
   ]
  },
  {
   "cell_type": "code",
   "execution_count": null,
   "id": "2a3fa604",
   "metadata": {},
   "outputs": [],
   "source": []
  }
 ],
 "metadata": {
  "kernelspec": {
   "display_name": "Python 3.8.13 (conda)",
   "language": "python",
   "name": "python3"
  },
  "language_info": {
   "codemirror_mode": {
    "name": "ipython",
    "version": 3
   },
   "file_extension": ".py",
   "mimetype": "text/x-python",
   "name": "python",
   "nbconvert_exporter": "python",
   "pygments_lexer": "ipython3",
   "version": "3.8.13"
  },
  "vscode": {
   "interpreter": {
    "hash": "410031b40c5a7c9ab458d1e1891294bd758324dd174cf6ba8db7a62b614ef71d"
   }
  }
 },
 "nbformat": 4,
 "nbformat_minor": 5
}
