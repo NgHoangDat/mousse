{
 "cells": [
  {
   "cell_type": "code",
   "execution_count": 1,
   "id": "3b2e34cb",
   "metadata": {},
   "outputs": [],
   "source": [
    "from enum import Enum\n",
    "\n",
    "\n",
    "import inspect\n",
    "from copy import deepcopy, copy\n",
    "from inspect import Parameter, Signature\n",
    "from types import FunctionType\n",
    "from typing import *\n",
    "from functools import lru_cache\n",
    "from collections.abc import Mapping\n",
    "\n",
    "from mousse import Dataclass, asdict, asclass\n",
    "from mousse.types import get_fields_info, Accessor, Field, parse, parser"
   ]
  },
  {
   "cell_type": "code",
   "execution_count": 2,
   "id": "e08e2e27",
   "metadata": {},
   "outputs": [],
   "source": [
    "class Foo(Dataclass, strict=100):\n",
    "    name: str\n",
    "        \n",
    "class Bar(Foo):\n",
    "    age: int"
   ]
  },
  {
   "cell_type": "code",
   "execution_count": 5,
   "id": "da6c55c0",
   "metadata": {},
   "outputs": [
    {
     "ename": "AssertionError",
     "evalue": "Invalid datatype: require <class 'str'>, get <class 'int'>",
     "output_type": "error",
     "traceback": [
      "\u001b[0;31m---------------------------------------------------------------------------\u001b[0m",
      "\u001b[0;31mAssertionError\u001b[0m                            Traceback (most recent call last)",
      "Input \u001b[0;32mIn [5]\u001b[0m, in \u001b[0;36m<cell line: 1>\u001b[0;34m()\u001b[0m\n\u001b[0;32m----> 1\u001b[0m a \u001b[38;5;241m=\u001b[39m \u001b[43mFoo\u001b[49m\u001b[43m(\u001b[49m\u001b[43mname\u001b[49m\u001b[38;5;241;43m=\u001b[39;49m\u001b[38;5;241;43m1\u001b[39;49m\u001b[43m)\u001b[49m\n",
      "File \u001b[0;32m~/local/code/mousse/mousse/types/dataclass.py:67\u001b[0m, in \u001b[0;36mDataMetaclass.__new__.<locals>.__init__\u001b[0;34m(self, *args, **kwargs)\u001b[0m\n\u001b[1;32m     65\u001b[0m \u001b[38;5;28;01mfor\u001b[39;00m key, val \u001b[38;5;129;01min\u001b[39;00m kwargs\u001b[38;5;241m.\u001b[39mitems():\n\u001b[1;32m     66\u001b[0m     \u001b[38;5;28;01mif\u001b[39;00m key \u001b[38;5;129;01min\u001b[39;00m fields \u001b[38;5;129;01mor\u001b[39;00m dynamic:\n\u001b[0;32m---> 67\u001b[0m         \u001b[38;5;28;43msetattr\u001b[39;49m\u001b[43m(\u001b[49m\u001b[38;5;28;43mself\u001b[39;49m\u001b[43m,\u001b[49m\u001b[43m \u001b[49m\u001b[43mkey\u001b[49m\u001b[43m,\u001b[49m\u001b[43m \u001b[49m\u001b[43mval\u001b[49m\u001b[43m)\u001b[49m\n\u001b[1;32m     69\u001b[0m \u001b[38;5;28;01mfor\u001b[39;00m key, val \u001b[38;5;129;01min\u001b[39;00m accessors\u001b[38;5;241m.\u001b[39mitems():\n\u001b[1;32m     70\u001b[0m     val\u001b[38;5;241m.\u001b[39mvalidate(\u001b[38;5;28mself\u001b[39m, \u001b[38;5;28mgetattr\u001b[39m(\u001b[38;5;28mself\u001b[39m, key))\n",
      "File \u001b[0;32m~/local/code/mousse/mousse/types/dataclass.py:90\u001b[0m, in \u001b[0;36mDataMetaclass.__new__.<locals>.__setattr__\u001b[0;34m(self, key, val)\u001b[0m\n\u001b[1;32m     87\u001b[0m     accessors[key] \u001b[38;5;241m=\u001b[39m accessor(key, field\u001b[38;5;241m=\u001b[39mfield)\n\u001b[1;32m     88\u001b[0m     \u001b[38;5;28mobject\u001b[39m\u001b[38;5;241m.\u001b[39m\u001b[38;5;21m__setattr__\u001b[39m(\u001b[38;5;28mself\u001b[39m, key, accessors[key])\n\u001b[0;32m---> 90\u001b[0m \u001b[43maccessors\u001b[49m\u001b[43m[\u001b[49m\u001b[43mkey\u001b[49m\u001b[43m]\u001b[49m\u001b[38;5;241;43m.\u001b[39;49m\u001b[38;5;21;43m__set__\u001b[39;49m\u001b[43m(\u001b[49m\u001b[38;5;28;43mself\u001b[39;49m\u001b[43m,\u001b[49m\u001b[43m \u001b[49m\u001b[43mval\u001b[49m\u001b[43m)\u001b[49m\n",
      "File \u001b[0;32m~/local/code/mousse/mousse/types/accessor.py:48\u001b[0m, in \u001b[0;36mAccessor.__set__\u001b[0;34m(self, obj, val)\u001b[0m\n\u001b[1;32m     45\u001b[0m         \u001b[38;5;28;01mbreak\u001b[39;00m\n\u001b[1;32m     47\u001b[0m \u001b[38;5;28;01mif\u001b[39;00m strictness \u001b[38;5;241m==\u001b[39m Strictness\u001b[38;5;241m.\u001b[39mREJECT:\n\u001b[0;32m---> 48\u001b[0m     \u001b[38;5;28;01massert\u001b[39;00m \u001b[38;5;28misinstance\u001b[39m(\n\u001b[1;32m     49\u001b[0m         val, \u001b[38;5;28mself\u001b[39m\u001b[38;5;241m.\u001b[39mfield\u001b[38;5;241m.\u001b[39mannotation\n\u001b[1;32m     50\u001b[0m     ), \u001b[38;5;124mf\u001b[39m\u001b[38;5;124m\"\u001b[39m\u001b[38;5;124mInvalid datatype: require \u001b[39m\u001b[38;5;132;01m{\u001b[39;00m\u001b[38;5;28mself\u001b[39m\u001b[38;5;241m.\u001b[39mfield\u001b[38;5;241m.\u001b[39mannotation\u001b[38;5;132;01m}\u001b[39;00m\u001b[38;5;124m, get \u001b[39m\u001b[38;5;132;01m{\u001b[39;00m\u001b[38;5;28mtype\u001b[39m(val)\u001b[38;5;132;01m}\u001b[39;00m\u001b[38;5;124m\"\u001b[39m\n\u001b[1;32m     52\u001b[0m \u001b[38;5;28;01mif\u001b[39;00m strictness \u001b[38;5;241m==\u001b[39m Strictness\u001b[38;5;241m.\u001b[39mCONVERT:\n\u001b[1;32m     53\u001b[0m     val \u001b[38;5;241m=\u001b[39m parse(\u001b[38;5;28mself\u001b[39m\u001b[38;5;241m.\u001b[39mfield\u001b[38;5;241m.\u001b[39mannotation, val)\n",
      "\u001b[0;31mAssertionError\u001b[0m: Invalid datatype: require <class 'str'>, get <class 'int'>"
     ]
    }
   ],
   "source": [
    "a = Foo(name=1)\n",
    "# a.name = Ellipsis"
   ]
  },
  {
   "cell_type": "code",
   "execution_count": 5,
   "id": "177b0e6d",
   "metadata": {},
   "outputs": [
    {
     "name": "stdout",
     "output_type": "stream",
     "text": [
      "<class 'int'> <class 'str'>\n"
     ]
    },
    {
     "ename": "AssertionError",
     "evalue": "Invalid datatype: require <class 'str'>, get <class 'int'>",
     "output_type": "error",
     "traceback": [
      "\u001b[0;31m---------------------------------------------------------------------------\u001b[0m",
      "\u001b[0;31mAssertionError\u001b[0m                            Traceback (most recent call last)",
      "Input \u001b[0;32mIn [5]\u001b[0m, in \u001b[0;36m<cell line: 1>\u001b[0;34m()\u001b[0m\n\u001b[0;32m----> 1\u001b[0m \u001b[43ma\u001b[49m\u001b[38;5;241;43m.\u001b[39;49m\u001b[43mname\u001b[49m \u001b[38;5;241m=\u001b[39m \u001b[38;5;241m1\u001b[39m\n",
      "File \u001b[0;32m~/local/code/mousse/mousse/types/dataclass.py:87\u001b[0m, in \u001b[0;36mDataMetaclass.__new__.<locals>.__setattr__\u001b[0;34m(self, key, val)\u001b[0m\n\u001b[1;32m     84\u001b[0m     accessors[key] \u001b[38;5;241m=\u001b[39m accessor(key, field\u001b[38;5;241m=\u001b[39mfield)\n\u001b[1;32m     85\u001b[0m     \u001b[38;5;28mobject\u001b[39m\u001b[38;5;241m.\u001b[39m\u001b[38;5;21m__setattr__\u001b[39m(\u001b[38;5;28mself\u001b[39m, key, accessors[key])\n\u001b[0;32m---> 87\u001b[0m \u001b[43maccessors\u001b[49m\u001b[43m[\u001b[49m\u001b[43mkey\u001b[49m\u001b[43m]\u001b[49m\u001b[38;5;241;43m.\u001b[39;49m\u001b[38;5;21;43m__set__\u001b[39;49m\u001b[43m(\u001b[49m\u001b[38;5;28;43mself\u001b[39;49m\u001b[43m,\u001b[49m\u001b[43m \u001b[49m\u001b[43mval\u001b[49m\u001b[43m)\u001b[49m\n",
      "File \u001b[0;32m~/local/code/mousse/mousse/types/accessor.py:49\u001b[0m, in \u001b[0;36mAccessor.__set__\u001b[0;34m(self, obj, val)\u001b[0m\n\u001b[1;32m     47\u001b[0m \u001b[38;5;28;01mif\u001b[39;00m strictness \u001b[38;5;241m==\u001b[39m Strictness\u001b[38;5;241m.\u001b[39mREJECT:\n\u001b[1;32m     48\u001b[0m     \u001b[38;5;28mprint\u001b[39m(\u001b[38;5;28mtype\u001b[39m(val), \u001b[38;5;28mself\u001b[39m\u001b[38;5;241m.\u001b[39mfield\u001b[38;5;241m.\u001b[39mannotation)\n\u001b[0;32m---> 49\u001b[0m     \u001b[38;5;28;01massert\u001b[39;00m \u001b[38;5;28misinstance\u001b[39m(\n\u001b[1;32m     50\u001b[0m         val, \u001b[38;5;28mself\u001b[39m\u001b[38;5;241m.\u001b[39mfield\u001b[38;5;241m.\u001b[39mannotation\n\u001b[1;32m     51\u001b[0m     ), \u001b[38;5;124mf\u001b[39m\u001b[38;5;124m\"\u001b[39m\u001b[38;5;124mInvalid datatype: require \u001b[39m\u001b[38;5;132;01m{\u001b[39;00m\u001b[38;5;28mself\u001b[39m\u001b[38;5;241m.\u001b[39mfield\u001b[38;5;241m.\u001b[39mannotation\u001b[38;5;132;01m}\u001b[39;00m\u001b[38;5;124m, get \u001b[39m\u001b[38;5;132;01m{\u001b[39;00m\u001b[38;5;28mtype\u001b[39m(val)\u001b[38;5;132;01m}\u001b[39;00m\u001b[38;5;124m\"\u001b[39m\n\u001b[1;32m     53\u001b[0m \u001b[38;5;28;01mif\u001b[39;00m strictness \u001b[38;5;241m==\u001b[39m Strictness\u001b[38;5;241m.\u001b[39mCONVERT:\n\u001b[1;32m     54\u001b[0m     val \u001b[38;5;241m=\u001b[39m parse(\u001b[38;5;28mself\u001b[39m\u001b[38;5;241m.\u001b[39mfield\u001b[38;5;241m.\u001b[39mannotation, val)\n",
      "\u001b[0;31mAssertionError\u001b[0m: Invalid datatype: require <class 'str'>, get <class 'int'>"
     ]
    }
   ],
   "source": [
    "a.name = 1"
   ]
  },
  {
   "cell_type": "code",
   "execution_count": 1,
   "id": "c2fc40d2",
   "metadata": {},
   "outputs": [
    {
     "ename": "NameError",
     "evalue": "name 'Dataclass' is not defined",
     "output_type": "error",
     "traceback": [
      "\u001b[0;31m---------------------------------------------------------------------------\u001b[0m",
      "\u001b[0;31mNameError\u001b[0m                                 Traceback (most recent call last)",
      "Input \u001b[0;32mIn [1]\u001b[0m, in \u001b[0;36m<cell line: 6>\u001b[0;34m()\u001b[0m\n\u001b[1;32m      2\u001b[0m     \u001b[38;5;28;01mdef\u001b[39;00m \u001b[38;5;21m__init__\u001b[39m(\u001b[38;5;28mself\u001b[39m, key: \u001b[38;5;28mstr\u001b[39m):\n\u001b[1;32m      3\u001b[0m         \u001b[38;5;28msuper\u001b[39m()\u001b[38;5;241m.\u001b[39m\u001b[38;5;21m__init__\u001b[39m(\u001b[38;5;124mf\u001b[39m\u001b[38;5;124m\"\u001b[39m\u001b[38;5;124mField `\u001b[39m\u001b[38;5;132;01m{\u001b[39;00mkey\u001b[38;5;132;01m}\u001b[39;00m\u001b[38;5;124m` is readonly\u001b[39m\u001b[38;5;124m\"\u001b[39m)\n\u001b[0;32m----> 6\u001b[0m \u001b[38;5;28;01mclass\u001b[39;00m \u001b[38;5;21;01mConfigMetadata\u001b[39;00m(\u001b[43mDataclass\u001b[49m, dynamic\u001b[38;5;241m=\u001b[39m\u001b[38;5;28;01mTrue\u001b[39;00m):\n\u001b[1;32m      7\u001b[0m     readonly: \u001b[38;5;28mbool\u001b[39m \u001b[38;5;241m=\u001b[39m \u001b[38;5;28;01mFalse\u001b[39;00m\n\u001b[1;32m     10\u001b[0m \u001b[38;5;28;01mclass\u001b[39;00m \u001b[38;5;21;01mConfigAccessor\u001b[39;00m(Accessor):\n",
      "\u001b[0;31mNameError\u001b[0m: name 'Dataclass' is not defined"
     ]
    }
   ],
   "source": [
    "class ReadOnlyFieldException(Exception):\n",
    "    def __init__(self, key: str):\n",
    "        super().__init__(f\"Field `{key}` is readonly\")\n",
    "        \n",
    "        \n",
    "class ConfigMetadata(Dataclass, dynamic=True):\n",
    "    readonly: bool = False\n",
    "        \n",
    "        \n",
    "class ConfigAccessor(Accessor):\n",
    "    def __set__(self, obj: Any, val: Any):\n",
    "        metadata = _get_metadata(obj, self.key)\n",
    "\n",
    "        if metadata.readonly:\n",
    "            raise ReadOnlyFieldException(self.key)\n",
    "\n",
    "        metadata.readonly = True\n",
    "        self.val = parse(Config, val)\n",
    "        \n",
    "    def __get__(self, obj: Any):\n",
    "        return self.val\n",
    "        \n",
    "        \n",
    "        \n",
    "class Config(Dataclass, dynamic=True, accessor=ConfigAccessor):\n",
    "    pass\n",
    "\n",
    "\n",
    "        \n",
    "@parser(Config)\n",
    "def parse_config(G: Type[Config], config: Union[Mapping, list, tuple, set]):\n",
    "    if isinstance(config, (list, tuple, set)):\n",
    "        return tuple(parse_config(G, elem) for elem in config)\n",
    "    \n",
    "    if isinstance(config, Mapping):\n",
    "        data = {}\n",
    "        for key, val in config.items():\n",
    "            val = parse_config(Config, val)\n",
    "            data[key] = val\n",
    "        \n",
    "        return Config(**data)\n",
    "    \n",
    "    return config\n",
    "\n",
    "\n",
    "@lru_cache(maxsize=None)\n",
    "def _get_metadata(obj: Any, key: str) -> ConfigMetadata:\n",
    "    return ConfigMetadata()\n",
    "\n",
    "\n",
    "def update(config: Config, **kwargs):\n",
    "    for key, val in kwargs.items():\n",
    "        setattr(config, key, val)\n",
    "\n"
   ]
  },
  {
   "cell_type": "code",
   "execution_count": null,
   "id": "19cff920",
   "metadata": {},
   "outputs": [],
   "source": []
  },
  {
   "cell_type": "code",
   "execution_count": 26,
   "id": "13fb3032",
   "metadata": {},
   "outputs": [],
   "source": [
    "config = Config()\n",
    "update(config, name=\"datnh21\", items=[[{\"aa\": \"banana\"}]])"
   ]
  },
  {
   "cell_type": "code",
   "execution_count": 27,
   "id": "3c87b74f",
   "metadata": {},
   "outputs": [
    {
     "name": "stdout",
     "output_type": "stream",
     "text": [
      "('name', 'datnh21')\n",
      "('items', ((Config(aa=\"banana\"),),))\n"
     ]
    }
   ],
   "source": [
    "for key in config:\n",
    "    print(key)"
   ]
  },
  {
   "cell_type": "code",
   "execution_count": 28,
   "id": "8245a924",
   "metadata": {},
   "outputs": [],
   "source": [
    "config_meta = ConfigMetadata()"
   ]
  },
  {
   "cell_type": "code",
   "execution_count": 30,
   "id": "aeafe8a9",
   "metadata": {},
   "outputs": [],
   "source": [
    "config_meta.aw = \"qq\""
   ]
  },
  {
   "cell_type": "code",
   "execution_count": 32,
   "id": "cf27871c",
   "metadata": {},
   "outputs": [
    {
     "data": {
      "text/plain": [
       "{'readonly': False, 'aw': 'qq'}"
      ]
     },
     "execution_count": 32,
     "metadata": {},
     "output_type": "execute_result"
    }
   ],
   "source": [
    "asdict(config_meta)"
   ]
  },
  {
   "cell_type": "code",
   "execution_count": 11,
   "id": "56dbafa8",
   "metadata": {},
   "outputs": [
    {
     "data": {
      "text/plain": [
       "abc.ABCMeta"
      ]
     },
     "execution_count": 11,
     "metadata": {},
     "output_type": "execute_result"
    }
   ],
   "source": [
    "type(Mapping)"
   ]
  },
  {
   "cell_type": "code",
   "execution_count": 11,
   "id": "6cc2c88f",
   "metadata": {},
   "outputs": [
    {
     "data": {
      "text/plain": [
       "Bar(foo_lst=[Foo(age=10, name=\"thu\")], foo_dct={'a': Foo(age=11, name=\"ad\"), 'b': Foo(age=12, name=\"fd\")}, foo_nst=[{'a': Foo(age=11, name=\"ad\"), 'b': Foo(age=12, name=\"fd\")}], foo=Foo(age=14, name=\"dat\"))"
      ]
     },
     "execution_count": 11,
     "metadata": {},
     "output_type": "execute_result"
    }
   ],
   "source": [
    "b"
   ]
  },
  {
   "cell_type": "code",
   "execution_count": 12,
   "id": "9e0ceb1b",
   "metadata": {},
   "outputs": [
    {
     "data": {
      "text/plain": [
       "{'foo_lst': [{'age': 10, 'name': 'thu'}],\n",
       " 'foo_dct': {'a': {'age': 11, 'name': 'ad'}, 'b': {'age': 12, 'name': 'fd'}},\n",
       " 'foo_nst': [{'a': {'age': 11, 'name': 'ad'}, 'b': {'age': 12, 'name': 'fd'}}],\n",
       " 'foo': {'age': 14, 'name': 'dat'}}"
      ]
     },
     "execution_count": 12,
     "metadata": {},
     "output_type": "execute_result"
    }
   ],
   "source": [
    "asdict(b)"
   ]
  },
  {
   "cell_type": "code",
   "execution_count": null,
   "id": "102ef48a",
   "metadata": {},
   "outputs": [],
   "source": []
  }
 ],
 "metadata": {
  "kernelspec": {
   "display_name": "Python 3 (ipykernel)",
   "language": "python",
   "name": "python3"
  },
  "language_info": {
   "codemirror_mode": {
    "name": "ipython",
    "version": 3
   },
   "file_extension": ".py",
   "mimetype": "text/x-python",
   "name": "python",
   "nbconvert_exporter": "python",
   "pygments_lexer": "ipython3",
   "version": "3.10.6"
  }
 },
 "nbformat": 4,
 "nbformat_minor": 5
}
