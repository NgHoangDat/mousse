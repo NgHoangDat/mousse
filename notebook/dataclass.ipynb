{
 "cells": [
  {
   "cell_type": "code",
   "execution_count": 1,
   "id": "3b2e34cb",
   "metadata": {},
   "outputs": [],
   "source": [
    "import inspect\n",
    "from copy import deepcopy, copy\n",
    "from inspect import Parameter, Signature\n",
    "from types import FunctionType\n",
    "from typing import *\n",
    "from functools import lru_cache\n",
    "from collections.abc import Mapping\n",
    "\n",
    "from mousse import Dataclass, asdict, asclass\n",
    "from mousse.types import get_fields_info, Accessor, Field, parse, parser"
   ]
  },
  {
   "cell_type": "code",
   "execution_count": 25,
   "id": "c2fc40d2",
   "metadata": {},
   "outputs": [],
   "source": [
    "class ReadOnlyFieldException(Exception):\n",
    "    def __init__(self, key: str):\n",
    "        super().__init__(f\"Field `{key}` is readonly\")\n",
    "        \n",
    "        \n",
    "class ConfigMetadata(Dataclass, dynamic=True):\n",
    "    readonly: bool = False\n",
    "        \n",
    "        \n",
    "class ConfigAccessor(Accessor):\n",
    "    def __set__(self, obj: Any, val: Any):\n",
    "        metadata = _get_metadata(obj, self.key)\n",
    "\n",
    "        if metadata.readonly:\n",
    "            raise ReadOnlyFieldException(self.key)\n",
    "\n",
    "        metadata.readonly = True\n",
    "        self.val = parse(Config, val)\n",
    "        \n",
    "    def __get__(self, obj: Any):\n",
    "        return self.val\n",
    "        \n",
    "        \n",
    "        \n",
    "class Config(Dataclass, dynamic=True, accessor=ConfigAccessor):\n",
    "    pass\n",
    "\n",
    "\n",
    "        \n",
    "@parser(Config)\n",
    "def parse_config(G: Type[Config], config: Union[Mapping, list, tuple, set]):\n",
    "    if isinstance(config, (list, tuple, set)):\n",
    "        return tuple(parse_config(G, elem) for elem in config)\n",
    "    \n",
    "    if isinstance(config, Mapping):\n",
    "        data = {}\n",
    "        for key, val in config.items():\n",
    "            val = parse_config(Config, val)\n",
    "            data[key] = val\n",
    "        \n",
    "        return Config(**data)\n",
    "    \n",
    "    return config\n",
    "\n",
    "\n",
    "@lru_cache(maxsize=None)\n",
    "def _get_metadata(obj: Any, key: str) -> ConfigMetadata:\n",
    "    return ConfigMetadata()\n",
    "\n",
    "\n",
    "def update(config: Config, **kwargs):\n",
    "    for key, val in kwargs.items():\n",
    "        setattr(config, key, val)\n",
    "\n"
   ]
  },
  {
   "cell_type": "code",
   "execution_count": 26,
   "id": "13fb3032",
   "metadata": {},
   "outputs": [],
   "source": [
    "config = Config()\n",
    "update(config, name=\"datnh21\", items=[[{\"aa\": \"banana\"}]])"
   ]
  },
  {
   "cell_type": "code",
   "execution_count": 27,
   "id": "3c87b74f",
   "metadata": {},
   "outputs": [
    {
     "name": "stdout",
     "output_type": "stream",
     "text": [
      "('name', 'datnh21')\n",
      "('items', ((Config(aa=\"banana\"),),))\n"
     ]
    }
   ],
   "source": [
    "for key in config:\n",
    "    print(key)"
   ]
  },
  {
   "cell_type": "code",
   "execution_count": 28,
   "id": "8245a924",
   "metadata": {},
   "outputs": [],
   "source": [
    "config_meta = ConfigMetadata()"
   ]
  },
  {
   "cell_type": "code",
   "execution_count": 30,
   "id": "aeafe8a9",
   "metadata": {},
   "outputs": [],
   "source": [
    "config_meta.aw = \"qq\""
   ]
  },
  {
   "cell_type": "code",
   "execution_count": 32,
   "id": "cf27871c",
   "metadata": {},
   "outputs": [
    {
     "data": {
      "text/plain": [
       "{'readonly': False, 'aw': 'qq'}"
      ]
     },
     "execution_count": 32,
     "metadata": {},
     "output_type": "execute_result"
    }
   ],
   "source": [
    "asdict(config_meta)"
   ]
  },
  {
   "cell_type": "code",
   "execution_count": 11,
   "id": "56dbafa8",
   "metadata": {},
   "outputs": [
    {
     "data": {
      "text/plain": [
       "abc.ABCMeta"
      ]
     },
     "execution_count": 11,
     "metadata": {},
     "output_type": "execute_result"
    }
   ],
   "source": [
    "type(Mapping)"
   ]
  },
  {
   "cell_type": "code",
   "execution_count": 11,
   "id": "6cc2c88f",
   "metadata": {},
   "outputs": [
    {
     "data": {
      "text/plain": [
       "Bar(foo_lst=[Foo(age=10, name=\"thu\")], foo_dct={'a': Foo(age=11, name=\"ad\"), 'b': Foo(age=12, name=\"fd\")}, foo_nst=[{'a': Foo(age=11, name=\"ad\"), 'b': Foo(age=12, name=\"fd\")}], foo=Foo(age=14, name=\"dat\"))"
      ]
     },
     "execution_count": 11,
     "metadata": {},
     "output_type": "execute_result"
    }
   ],
   "source": [
    "b"
   ]
  },
  {
   "cell_type": "code",
   "execution_count": 12,
   "id": "9e0ceb1b",
   "metadata": {},
   "outputs": [
    {
     "data": {
      "text/plain": [
       "{'foo_lst': [{'age': 10, 'name': 'thu'}],\n",
       " 'foo_dct': {'a': {'age': 11, 'name': 'ad'}, 'b': {'age': 12, 'name': 'fd'}},\n",
       " 'foo_nst': [{'a': {'age': 11, 'name': 'ad'}, 'b': {'age': 12, 'name': 'fd'}}],\n",
       " 'foo': {'age': 14, 'name': 'dat'}}"
      ]
     },
     "execution_count": 12,
     "metadata": {},
     "output_type": "execute_result"
    }
   ],
   "source": [
    "asdict(b)"
   ]
  },
  {
   "cell_type": "code",
   "execution_count": null,
   "id": "102ef48a",
   "metadata": {},
   "outputs": [],
   "source": []
  }
 ],
 "metadata": {
  "kernelspec": {
   "display_name": "Python 3 (ipykernel)",
   "language": "python",
   "name": "python3"
  },
  "language_info": {
   "codemirror_mode": {
    "name": "ipython",
    "version": 3
   },
   "file_extension": ".py",
   "mimetype": "text/x-python",
   "name": "python",
   "nbconvert_exporter": "python",
   "pygments_lexer": "ipython3",
   "version": "3.8.13"
  }
 },
 "nbformat": 4,
 "nbformat_minor": 5
}
