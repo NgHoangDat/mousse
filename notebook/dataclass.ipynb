{
 "cells": [
  {
   "cell_type": "code",
   "execution_count": 30,
   "id": "3b2e34cb",
   "metadata": {},
   "outputs": [],
   "source": [
    "import inspect\n",
    "from copy import deepcopy, copy\n",
    "from inspect import Parameter, Signature\n",
    "from types import FunctionType\n",
    "from typing import *\n",
    "\n",
    "from mousse import Accessor, validator"
   ]
  },
  {
   "cell_type": "code",
   "execution_count": 56,
   "id": "f7399637",
   "metadata": {},
   "outputs": [],
   "source": [
    "class Accessor:\n",
    "    def __init__(self, key: str, default: Any = None, validators: List[str] = None):\n",
    "        self.key = key\n",
    "        self.default = default\n",
    "        self.validators = validators or []\n",
    "        self.storage = {}\n",
    "    \n",
    "    def __get__(self, obj: \"Dataclass\", *args, **kwargs):\n",
    "        if obj not in self.storage:\n",
    "            self.storage[obj] = deepcopy(self.default)\n",
    "        return self.storage.get(obj)\n",
    "\n",
    "    def __set__(self, obj: \"Dataclass\", val: Any):\n",
    "        for validator_name in self.validators:\n",
    "            validator = getattr(obj, validator_name)\n",
    "            assert validator(val), f\"Validation failed at: {validator_name}\"\n",
    "\n",
    "        self.storage[obj] = val\n",
    "        \n",
    "        \n",
    "class Validator:\n",
    "    def __init__(self, field: str, func: Callable):\n",
    "        self.field = field\n",
    "        self.func = func\n",
    "        \n",
    "        \n",
    "def validator(field: str, func: Callable = None):\n",
    "    def decorator(func: Callable):\n",
    "        return Validator(field, func)\n",
    "    \n",
    "    if func is not None:\n",
    "        return decorator(func)\n",
    "    \n",
    "    return decorator\n",
    "\n",
    "\n",
    "\n",
    "class DataMetaclass(type):\n",
    "    def __new__(cls, name: str, bases: Tuple[type, ...], data: Dict[str, Any], accessor: Type[Accessor] = Accessor):\n",
    "        validators = {}\n",
    "        for key, val in data.items():\n",
    "            if type(val) is Validator:\n",
    "                if val.field not in validators:\n",
    "                    validators[val.field] = []\n",
    "                \n",
    "                validators[val.field].append(key)\n",
    "                data[key] = val.func\n",
    "\n",
    "        keys = []\n",
    "        parameters = [\n",
    "            Parameter(\"self\", kind=Parameter.POSITIONAL_ONLY)\n",
    "        ]\n",
    "        defaults = []\n",
    "\n",
    "        if \"__annotations__\" in data:\n",
    "            annotations = data.pop(\"__annotations__\")\n",
    "            for key, dtype in annotations.items():\n",
    "                default_val = None\n",
    "                if key in data:\n",
    "                    default_val = data.pop(key)\n",
    "\n",
    "                data[key] = Accessor(key, default=default_val, validators=validators.get(key))\n",
    "                keys.append(key)\n",
    "                parameters.append(Parameter(key, Parameter.KEYWORD_ONLY, default=default_val, annotation=dtype))\n",
    "                defaults.append(default_val)\n",
    "                                        \n",
    "        def __init__(self, *args, **kwargs):\n",
    "            for key, val in kwargs.items():\n",
    "                if key in keys:\n",
    "                    setattr(self, key, val)\n",
    "            self.build(*args, **kwargs)\n",
    "\n",
    "        def __copy__(self):\n",
    "            cls = self.__class__\n",
    "\n",
    "            result = cls.__new__(cls)\n",
    "            result.__dict__.update(self.__dict__)\n",
    "    \n",
    "            for key in keys:\n",
    "                setattr(result, key, getattr(self, key))\n",
    "    \n",
    "            return result\n",
    "    \n",
    "        def __deepcopy__(self, memo: Dict[int, Any]):\n",
    "            cls = self.__class__\n",
    "            result = cls.__new__(cls)\n",
    "            memo[id(self)] = result\n",
    "\n",
    "            for k, v in self.__dict__.items():\n",
    "                setattr(result, k, deepcopy(v, memo))\n",
    "                \n",
    "            for key in keys:\n",
    "                val = getattr(self, key)\n",
    "                setattr(result, key, deepcopy(val))\n",
    "\n",
    "            return result\n",
    "              \n",
    "        setattr(\n",
    "            __init__,\n",
    "            \"__signature__\",\n",
    "            Signature(parameters=parameters)\n",
    "        )\n",
    "        __init__.__defaults__ = tuple(defaults)\n",
    "\n",
    "\n",
    "        data[\"__init__\"] = __init__ \n",
    "        data[\"__copy__\"] = __copy__\n",
    "        data[\"__deepcopy__\"] = __deepcopy__\n",
    "        \n",
    "        return super().__new__(cls, name, bases, data)            \n",
    "    \n",
    "    \n",
    "class Dataclass(metaclass=DataMetaclass):\n",
    "    def build(self, *args, **kwargs):\n",
    "        pass\n",
    "\n",
    "\n",
    "class Field:\n",
    "    def __init__(self, default: Any=Ellipsis, /, alias: str = None, default_factory: Callable = None):\n",
    "        self.default = default\n",
    "        self.alias = alias\n",
    "        self.default_factory = default_factory"
   ]
  },
  {
   "cell_type": "code",
   "execution_count": 57,
   "id": "c2fc40d2",
   "metadata": {},
   "outputs": [],
   "source": [
    "class Foo(Dataclass):\n",
    "    age: int = 18\n",
    "    name: Dict[str, Any] = {}\n",
    "        \n",
    "    @validator(\"age\")\n",
    "    def is_adult(self, age: int):\n",
    "        return age > 18\n",
    "    \n",
    "    @validator(\"age\")\n",
    "    def is_adult(self, age: float):\n",
    "        return age > 18"
   ]
  },
  {
   "cell_type": "code",
   "execution_count": 58,
   "id": "f75504cd",
   "metadata": {},
   "outputs": [],
   "source": [
    "c = Foo()\n",
    "d = Foo()"
   ]
  },
  {
   "cell_type": "code",
   "execution_count": 59,
   "id": "13fb3032",
   "metadata": {},
   "outputs": [
    {
     "data": {
      "text/plain": [
       "<Signature (*, age: int = 18, name: Dict[str, Any] = {})>"
      ]
     },
     "execution_count": 59,
     "metadata": {},
     "output_type": "execute_result"
    }
   ],
   "source": [
    "inspect.signature(Foo)"
   ]
  },
  {
   "cell_type": "code",
   "execution_count": 145,
   "id": "0f6581be",
   "metadata": {},
   "outputs": [
    {
     "data": {
      "text/plain": [
       "{}"
      ]
     },
     "execution_count": 145,
     "metadata": {},
     "output_type": "execute_result"
    }
   ],
   "source": [
    "d.name"
   ]
  },
  {
   "cell_type": "code",
   "execution_count": 146,
   "id": "3c87b74f",
   "metadata": {},
   "outputs": [],
   "source": [
    "b = c"
   ]
  },
  {
   "cell_type": "code",
   "execution_count": 147,
   "id": "8245a924",
   "metadata": {},
   "outputs": [
    {
     "data": {
      "text/plain": [
       "{'name': 'datnh21'}"
      ]
     },
     "execution_count": 147,
     "metadata": {},
     "output_type": "execute_result"
    }
   ],
   "source": [
    "b.name"
   ]
  },
  {
   "cell_type": "code",
   "execution_count": 148,
   "id": "aeafe8a9",
   "metadata": {},
   "outputs": [],
   "source": [
    "b = deepcopy(c)"
   ]
  },
  {
   "cell_type": "code",
   "execution_count": 150,
   "id": "cf27871c",
   "metadata": {},
   "outputs": [],
   "source": [
    "b.name['name'] = \"a\""
   ]
  },
  {
   "cell_type": "code",
   "execution_count": 152,
   "id": "56dbafa8",
   "metadata": {},
   "outputs": [
    {
     "data": {
      "text/plain": [
       "{'name': 'a'}"
      ]
     },
     "execution_count": 152,
     "metadata": {},
     "output_type": "execute_result"
    }
   ],
   "source": [
    "b.name"
   ]
  },
  {
   "cell_type": "code",
   "execution_count": 60,
   "id": "6cc2c88f",
   "metadata": {},
   "outputs": [],
   "source": [
    "a = list(a + 1 for a in range(10))"
   ]
  },
  {
   "cell_type": "code",
   "execution_count": 61,
   "id": "9e0ceb1b",
   "metadata": {},
   "outputs": [
    {
     "data": {
      "text/plain": [
       "[1, 2, 3, 4, 5, 6, 7, 8, 9, 10]"
      ]
     },
     "execution_count": 61,
     "metadata": {},
     "output_type": "execute_result"
    }
   ],
   "source": [
    "a"
   ]
  },
  {
   "cell_type": "code",
   "execution_count": null,
   "id": "102ef48a",
   "metadata": {},
   "outputs": [],
   "source": []
  }
 ],
 "metadata": {
  "kernelspec": {
   "display_name": "Python 3 (ipykernel)",
   "language": "python",
   "name": "python3"
  },
  "language_info": {
   "codemirror_mode": {
    "name": "ipython",
    "version": 3
   },
   "file_extension": ".py",
   "mimetype": "text/x-python",
   "name": "python",
   "nbconvert_exporter": "python",
   "pygments_lexer": "ipython3",
   "version": "3.8.13"
  }
 },
 "nbformat": 4,
 "nbformat_minor": 5
}
