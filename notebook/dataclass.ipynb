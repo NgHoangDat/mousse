{
 "cells": [
  {
   "cell_type": "code",
   "execution_count": 1,
   "id": "3b2e34cb",
   "metadata": {},
   "outputs": [],
   "source": [
    "import inspect\n",
    "from copy import deepcopy, copy\n",
    "from inspect import Parameter, Signature\n",
    "from types import FunctionType\n",
    "from typing import *\n",
    "\n",
    "from mousse import Dataclass, asdict, asclass"
   ]
  },
  {
   "cell_type": "code",
   "execution_count": 2,
   "id": "c2fc40d2",
   "metadata": {},
   "outputs": [],
   "source": [
    "class Foo(Dataclass):\n",
    "    age: int\n",
    "    name: str\n",
    "        \n",
    "        \n",
    "class Bar(Dataclass, dynamic=True):\n",
    "    foo_lst: List[Foo] = []\n",
    "    foo_dct: Dict[str, Foo] = {}\n",
    "    foo_nst: List[Dict[str, Foo]] = []"
   ]
  },
  {
   "cell_type": "code",
   "execution_count": 3,
   "id": "f75504cd",
   "metadata": {},
   "outputs": [],
   "source": [
    "bar = Bar(foo_lst=[\n",
    "    {\n",
    "        \"age\": 10,\n",
    "        \"name\": \"thu\"\n",
    "    }\n",
    "], foo_dct={\n",
    "    'a': {\n",
    "        \"age\": 11,\n",
    "        \"name\": \"ad\"\n",
    "    },\n",
    "    'b': {\n",
    "        \"age\": 12,\n",
    "        \"name\": \"fd\"\n",
    "    }\n",
    "}, foo_nst=[\n",
    "   {\n",
    "    'a': {\n",
    "        \"age\": 11,\n",
    "        \"name\": \"ad\"\n",
    "    },\n",
    "    'b': {\n",
    "        \"age\": 12,\n",
    "        \"name\": \"fd\"\n",
    "    }\n",
    "} \n",
    "], foo=Foo(age=14, name=\"dat\"))"
   ]
  },
  {
   "cell_type": "code",
   "execution_count": 4,
   "id": "13fb3032",
   "metadata": {},
   "outputs": [
    {
     "data": {
      "text/plain": [
       "Foo(age=14, name=\"dat\")"
      ]
     },
     "execution_count": 4,
     "metadata": {},
     "output_type": "execute_result"
    }
   ],
   "source": [
    "bar.foo"
   ]
  },
  {
   "cell_type": "code",
   "execution_count": 5,
   "id": "0f6581be",
   "metadata": {},
   "outputs": [
    {
     "data": {
      "text/plain": [
       "{'foo_lst': [{'age': 10, 'name': 'thu'}],\n",
       " 'foo_dct': {'a': {'age': 11, 'name': 'ad'}, 'b': {'age': 12, 'name': 'fd'}},\n",
       " 'foo_nst': [{'a': {'age': 11, 'name': 'ad'}, 'b': {'age': 12, 'name': 'fd'}}],\n",
       " 'foo': {'age': 14, 'name': 'dat'}}"
      ]
     },
     "execution_count": 5,
     "metadata": {},
     "output_type": "execute_result"
    }
   ],
   "source": [
    "asdict(bar)"
   ]
  },
  {
   "cell_type": "code",
   "execution_count": 6,
   "id": "3c87b74f",
   "metadata": {},
   "outputs": [],
   "source": [
    "bar2 = Bar()"
   ]
  },
  {
   "cell_type": "code",
   "execution_count": 7,
   "id": "8245a924",
   "metadata": {},
   "outputs": [
    {
     "data": {
      "text/plain": [
       "{'foo_lst': [], 'foo_dct': {}, 'foo_nst': []}"
      ]
     },
     "execution_count": 7,
     "metadata": {},
     "output_type": "execute_result"
    }
   ],
   "source": [
    "asdict(bar2)"
   ]
  },
  {
   "cell_type": "code",
   "execution_count": 8,
   "id": "aeafe8a9",
   "metadata": {},
   "outputs": [
    {
     "ename": "NameError",
     "evalue": "name 'b' is not defined",
     "output_type": "error",
     "traceback": [
      "\u001b[0;31m---------------------------------------------------------------------------\u001b[0m",
      "\u001b[0;31mNameError\u001b[0m                                 Traceback (most recent call last)",
      "Input \u001b[0;32mIn [8]\u001b[0m, in \u001b[0;36m<cell line: 1>\u001b[0;34m()\u001b[0m\n\u001b[0;32m----> 1\u001b[0m asdict(\u001b[43mb\u001b[49m)\n",
      "\u001b[0;31mNameError\u001b[0m: name 'b' is not defined"
     ]
    }
   ],
   "source": [
    "asdict(b)"
   ]
  },
  {
   "cell_type": "code",
   "execution_count": 9,
   "id": "cf27871c",
   "metadata": {},
   "outputs": [
    {
     "ename": "NameError",
     "evalue": "name 'b' is not defined",
     "output_type": "error",
     "traceback": [
      "\u001b[0;31m---------------------------------------------------------------------------\u001b[0m",
      "\u001b[0;31mNameError\u001b[0m                                 Traceback (most recent call last)",
      "Input \u001b[0;32mIn [9]\u001b[0m, in \u001b[0;36m<cell line: 1>\u001b[0;34m()\u001b[0m\n\u001b[0;32m----> 1\u001b[0m \u001b[43mb\u001b[49m\u001b[38;5;241m.\u001b[39mname[\u001b[38;5;124m'\u001b[39m\u001b[38;5;124mname\u001b[39m\u001b[38;5;124m'\u001b[39m] \u001b[38;5;241m=\u001b[39m \u001b[38;5;124m\"\u001b[39m\u001b[38;5;124ma\u001b[39m\u001b[38;5;124m\"\u001b[39m\n",
      "\u001b[0;31mNameError\u001b[0m: name 'b' is not defined"
     ]
    }
   ],
   "source": [
    "b.name['name'] = \"a\""
   ]
  },
  {
   "cell_type": "code",
   "execution_count": 10,
   "id": "56dbafa8",
   "metadata": {},
   "outputs": [],
   "source": [
    "b = deepcopy(bar)"
   ]
  },
  {
   "cell_type": "code",
   "execution_count": 11,
   "id": "6cc2c88f",
   "metadata": {},
   "outputs": [
    {
     "data": {
      "text/plain": [
       "Bar(foo_lst=[Foo(age=10, name=\"thu\")], foo_dct={'a': Foo(age=11, name=\"ad\"), 'b': Foo(age=12, name=\"fd\")}, foo_nst=[{'a': Foo(age=11, name=\"ad\"), 'b': Foo(age=12, name=\"fd\")}], foo=Foo(age=14, name=\"dat\"))"
      ]
     },
     "execution_count": 11,
     "metadata": {},
     "output_type": "execute_result"
    }
   ],
   "source": [
    "b"
   ]
  },
  {
   "cell_type": "code",
   "execution_count": 12,
   "id": "9e0ceb1b",
   "metadata": {},
   "outputs": [
    {
     "data": {
      "text/plain": [
       "{'foo_lst': [{'age': 10, 'name': 'thu'}],\n",
       " 'foo_dct': {'a': {'age': 11, 'name': 'ad'}, 'b': {'age': 12, 'name': 'fd'}},\n",
       " 'foo_nst': [{'a': {'age': 11, 'name': 'ad'}, 'b': {'age': 12, 'name': 'fd'}}],\n",
       " 'foo': {'age': 14, 'name': 'dat'}}"
      ]
     },
     "execution_count": 12,
     "metadata": {},
     "output_type": "execute_result"
    }
   ],
   "source": [
    "asdict(b)"
   ]
  },
  {
   "cell_type": "code",
   "execution_count": null,
   "id": "102ef48a",
   "metadata": {},
   "outputs": [],
   "source": []
  }
 ],
 "metadata": {
  "kernelspec": {
   "display_name": "Python 3 (ipykernel)",
   "language": "python",
   "name": "python3"
  },
  "language_info": {
   "codemirror_mode": {
    "name": "ipython",
    "version": 3
   },
   "file_extension": ".py",
   "mimetype": "text/x-python",
   "name": "python",
   "nbconvert_exporter": "python",
   "pygments_lexer": "ipython3",
   "version": "3.8.13"
  }
 },
 "nbformat": 4,
 "nbformat_minor": 5
}
