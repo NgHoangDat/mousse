{
 "cells": [
  {
   "cell_type": "code",
   "execution_count": 1,
   "id": "3b2e34cb",
   "metadata": {},
   "outputs": [],
   "source": [
    "import inspect\n",
    "from copy import deepcopy, copy\n",
    "from inspect import Parameter, Signature\n",
    "from types import FunctionType\n",
    "from typing import *\n",
    "from functools import lru_cache\n",
    "from collections.abc import Mapping\n",
    "\n",
    "from mousse import Dataclass, asdict, asclass\n",
    "from mousse.types import get_fields_info, Accessor, Field, parse, parser"
   ]
  },
  {
   "cell_type": "code",
   "execution_count": null,
   "id": "9b568ae3",
   "metadata": {},
   "outputs": [],
   "source": []
  },
  {
   "cell_type": "code",
   "execution_count": 7,
   "id": "c2fc40d2",
   "metadata": {},
   "outputs": [],
   "source": [
    "class ReadOnlyFieldException(Exception):\n",
    "    def __init__(self, key: str):\n",
    "        super().__init__(f\"Field `{key}` is readonly\")\n",
    "        \n",
    "        \n",
    "class ConfigMetadata(Dataclass):\n",
    "    readonly: bool = False\n",
    "        \n",
    "        \n",
    "class Config(Dataclass, dynamic=True, accessor=Accessor):\n",
    "    def __setattr__(self, key: str, val: Any):\n",
    "        fields = get_fields_info(self.__class__, self)        \n",
    "\n",
    "        if key in fields:\n",
    "            metadata = _get_metadata(self)\n",
    "            if metadata.readonly:\n",
    "                raise ReadOnlyFieldException(key)\n",
    "            metadata.readonly = True\n",
    "            super()\n",
    "\n",
    "        val = parse(Config, val)\n",
    "        dtype = type(val)\n",
    "\n",
    "        field = Field()\n",
    "        field.annotation = dtype\n",
    "        field.private = key.startswith(\"_\")\n",
    "\n",
    "        accessor = Accessor(key, field=field)\n",
    "#         accessor.__set__(self, val)\n",
    "        super().__setattr__(key, accessor)\n",
    "        super().__setattr__(key, val)\n",
    "        \n",
    "        fields[key] = field\n",
    "\n",
    "\n",
    "        \n",
    "@parser(Config)\n",
    "def parse_config(G: Type[Config], config: Union[Mapping, list, tuple, set]):\n",
    "    if isinstance(config, (list, tuple, set)):\n",
    "        return tuple(parse_config(G, elem) for elem in config)\n",
    "    \n",
    "    if isinstance(config, Mapping):\n",
    "        data = {}\n",
    "        for key, val in config.items():\n",
    "            val = parse_config(Config, val)\n",
    "            data[key] = val\n",
    "        \n",
    "        return Config(**data)\n",
    "    \n",
    "    return config\n",
    "\n",
    "\n",
    "@lru_cache(maxsize=None)\n",
    "def _get_metadata(obj: Any) -> ConfigMetadata:\n",
    "    return ConfigMetadata()\n",
    "\n",
    "\n",
    "def update(config: Config, **kwargs):\n",
    "    for key, val in kwargs.items():\n",
    "        setattr(config, key, val)\n",
    "\n"
   ]
  },
  {
   "cell_type": "code",
   "execution_count": 8,
   "id": "13fb3032",
   "metadata": {},
   "outputs": [],
   "source": [
    "config = Config()\n",
    "update(config, name=\"datnh21\", items=[[{\"aa\": \"banana\"}]])"
   ]
  },
  {
   "cell_type": "code",
   "execution_count": 9,
   "id": "3c87b74f",
   "metadata": {},
   "outputs": [
    {
     "data": {
      "text/plain": [
       "Config(name=\"datnh21\", items=((Config(aa=<mousse.types.accessor.Accessor object at 0x10e5c4100>),),))"
      ]
     },
     "execution_count": 9,
     "metadata": {},
     "output_type": "execute_result"
    }
   ],
   "source": [
    "config"
   ]
  },
  {
   "cell_type": "code",
   "execution_count": 24,
   "id": "8245a924",
   "metadata": {},
   "outputs": [
    {
     "data": {
      "text/plain": [
       "Config(name=\"datnh21\", items=((Config(aa=\"banana\"),),), yolo=1)"
      ]
     },
     "execution_count": 24,
     "metadata": {},
     "output_type": "execute_result"
    }
   ],
   "source": [
    "config"
   ]
  },
  {
   "cell_type": "code",
   "execution_count": 65,
   "id": "aeafe8a9",
   "metadata": {},
   "outputs": [
    {
     "ename": "ReadOnlyFieldException",
     "evalue": "Field name is readonly",
     "output_type": "error",
     "traceback": [
      "\u001b[0;31m---------------------------------------------------------------------------\u001b[0m",
      "\u001b[0;31mReadOnlyFieldException\u001b[0m                    Traceback (most recent call last)",
      "Input \u001b[0;32mIn [65]\u001b[0m, in \u001b[0;36m<cell line: 1>\u001b[0;34m()\u001b[0m\n\u001b[0;32m----> 1\u001b[0m \u001b[43mconfig\u001b[49m\u001b[38;5;241;43m.\u001b[39;49m\u001b[43mname\u001b[49m \u001b[38;5;241m=\u001b[39m \u001b[38;5;241m2\u001b[39m\n",
      "Input \u001b[0;32mIn [59]\u001b[0m, in \u001b[0;36mConfig.__setattr__\u001b[0;34m(self, key, val)\u001b[0m\n\u001b[1;32m     14\u001b[0m metadata \u001b[38;5;241m=\u001b[39m _get_metadata(\u001b[38;5;28mself\u001b[39m)\n\u001b[1;32m     15\u001b[0m \u001b[38;5;28;01mif\u001b[39;00m metadata\u001b[38;5;241m.\u001b[39mreadonly:\n\u001b[0;32m---> 16\u001b[0m     \u001b[38;5;28;01mraise\u001b[39;00m ReadOnlyFieldException(key)\n\u001b[1;32m     18\u001b[0m metadata\u001b[38;5;241m.\u001b[39mreadonly \u001b[38;5;241m=\u001b[39m \u001b[38;5;28;01mTrue\u001b[39;00m\n\u001b[1;32m     19\u001b[0m \u001b[38;5;28;01mreturn\u001b[39;00m \u001b[38;5;28msuper\u001b[39m()\u001b[38;5;241m.\u001b[39m\u001b[38;5;21m__setattr__\u001b[39m(key, val)\n",
      "\u001b[0;31mReadOnlyFieldException\u001b[0m: Field name is readonly"
     ]
    }
   ],
   "source": [
    "config.name = 2"
   ]
  },
  {
   "cell_type": "code",
   "execution_count": 7,
   "id": "cf27871c",
   "metadata": {},
   "outputs": [
    {
     "data": {
      "text/plain": [
       "typing.Tuple[typing.Union[__main__.Config, typing.Any], ...]"
      ]
     },
     "execution_count": 7,
     "metadata": {},
     "output_type": "execute_result"
    }
   ],
   "source": [
    "TT"
   ]
  },
  {
   "cell_type": "code",
   "execution_count": 11,
   "id": "56dbafa8",
   "metadata": {},
   "outputs": [
    {
     "data": {
      "text/plain": [
       "abc.ABCMeta"
      ]
     },
     "execution_count": 11,
     "metadata": {},
     "output_type": "execute_result"
    }
   ],
   "source": [
    "type(Mapping)"
   ]
  },
  {
   "cell_type": "code",
   "execution_count": 11,
   "id": "6cc2c88f",
   "metadata": {},
   "outputs": [
    {
     "data": {
      "text/plain": [
       "Bar(foo_lst=[Foo(age=10, name=\"thu\")], foo_dct={'a': Foo(age=11, name=\"ad\"), 'b': Foo(age=12, name=\"fd\")}, foo_nst=[{'a': Foo(age=11, name=\"ad\"), 'b': Foo(age=12, name=\"fd\")}], foo=Foo(age=14, name=\"dat\"))"
      ]
     },
     "execution_count": 11,
     "metadata": {},
     "output_type": "execute_result"
    }
   ],
   "source": [
    "b"
   ]
  },
  {
   "cell_type": "code",
   "execution_count": 12,
   "id": "9e0ceb1b",
   "metadata": {},
   "outputs": [
    {
     "data": {
      "text/plain": [
       "{'foo_lst': [{'age': 10, 'name': 'thu'}],\n",
       " 'foo_dct': {'a': {'age': 11, 'name': 'ad'}, 'b': {'age': 12, 'name': 'fd'}},\n",
       " 'foo_nst': [{'a': {'age': 11, 'name': 'ad'}, 'b': {'age': 12, 'name': 'fd'}}],\n",
       " 'foo': {'age': 14, 'name': 'dat'}}"
      ]
     },
     "execution_count": 12,
     "metadata": {},
     "output_type": "execute_result"
    }
   ],
   "source": [
    "asdict(b)"
   ]
  },
  {
   "cell_type": "code",
   "execution_count": null,
   "id": "102ef48a",
   "metadata": {},
   "outputs": [],
   "source": []
  }
 ],
 "metadata": {
  "kernelspec": {
   "display_name": "Python 3 (ipykernel)",
   "language": "python",
   "name": "python3"
  },
  "language_info": {
   "codemirror_mode": {
    "name": "ipython",
    "version": 3
   },
   "file_extension": ".py",
   "mimetype": "text/x-python",
   "name": "python",
   "nbconvert_exporter": "python",
   "pygments_lexer": "ipython3",
   "version": "3.8.13"
  }
 },
 "nbformat": 4,
 "nbformat_minor": 5
}
