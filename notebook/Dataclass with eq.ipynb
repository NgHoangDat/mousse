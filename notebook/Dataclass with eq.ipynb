{
 "cells": [
  {
   "cell_type": "code",
   "execution_count": 14,
   "id": "cdbbcacc",
   "metadata": {},
   "outputs": [],
   "source": [
    "from copy import deepcopy\n",
    "from mousse import Dataclass"
   ]
  },
  {
   "cell_type": "code",
   "execution_count": 2,
   "id": "4e4617ed",
   "metadata": {},
   "outputs": [],
   "source": [
    "class Entry(Dataclass):\n",
    "    x: int\n",
    "    y: int\n",
    "        \n",
    "    def __eq__(self, other: \"Entry\"):\n",
    "        return self.x == other.x and self.y == other.y"
   ]
  },
  {
   "cell_type": "code",
   "execution_count": 16,
   "id": "73a5725b",
   "metadata": {},
   "outputs": [],
   "source": [
    "x = Entry(x=1, y =2)"
   ]
  },
  {
   "cell_type": "code",
   "execution_count": 17,
   "id": "50657bb8",
   "metadata": {},
   "outputs": [],
   "source": [
    "y = Entry(x=1, y =2)"
   ]
  },
  {
   "cell_type": "code",
   "execution_count": 18,
   "id": "24b5a03d",
   "metadata": {},
   "outputs": [
    {
     "data": {
      "text/plain": [
       "4481927344"
      ]
     },
     "execution_count": 18,
     "metadata": {},
     "output_type": "execute_result"
    }
   ],
   "source": [
    "id(y)"
   ]
  },
  {
   "cell_type": "code",
   "execution_count": 19,
   "id": "f5f1e871",
   "metadata": {},
   "outputs": [
    {
     "data": {
      "text/plain": [
       "4481927296"
      ]
     },
     "execution_count": 19,
     "metadata": {},
     "output_type": "execute_result"
    }
   ],
   "source": [
    "id(x)"
   ]
  },
  {
   "cell_type": "code",
   "execution_count": 20,
   "id": "bab6f19f",
   "metadata": {},
   "outputs": [
    {
     "data": {
      "text/plain": [
       "True"
      ]
     },
     "execution_count": 20,
     "metadata": {},
     "output_type": "execute_result"
    }
   ],
   "source": [
    "y == x"
   ]
  },
  {
   "cell_type": "code",
   "execution_count": null,
   "id": "48eadf9d",
   "metadata": {},
   "outputs": [],
   "source": []
  }
 ],
 "metadata": {
  "kernelspec": {
   "display_name": "Python 3 (ipykernel)",
   "language": "python",
   "name": "python3"
  },
  "language_info": {
   "codemirror_mode": {
    "name": "ipython",
    "version": 3
   },
   "file_extension": ".py",
   "mimetype": "text/x-python",
   "name": "python",
   "nbconvert_exporter": "python",
   "pygments_lexer": "ipython3",
   "version": "3.10.6"
  }
 },
 "nbformat": 4,
 "nbformat_minor": 5
}
