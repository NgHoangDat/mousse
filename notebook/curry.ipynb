{
 "cells": [
  {
   "cell_type": "code",
   "execution_count": 2,
   "id": "ae5b4dee",
   "metadata": {},
   "outputs": [],
   "source": [
    "import inspect\n",
    "import operator as op\n",
    "\n",
    "from functools import partial, wraps\n",
    "from typing import *"
   ]
  },
  {
   "cell_type": "code",
   "execution_count": 10,
   "id": "89314fc6",
   "metadata": {},
   "outputs": [],
   "source": [
    "def identity(x: Any):\n",
    "    return x    "
   ]
  },
  {
   "cell_type": "code",
   "execution_count": 11,
   "id": "75582fb9",
   "metadata": {},
   "outputs": [],
   "source": [
    "def evaluable(dtype: Type[Any]) -> bool:\n",
    "    return dtype == Any or hasattr(dtype, \"__bool__\") or hasattr(dtype, \"__len__\")\n",
    "\n",
    "\n",
    "def invertible(dtype: Type[Any]) -> bool:\n",
    "    return dtype == Any or hasattr(dtype, \"__invert__\")\n",
    "\n",
    "\n",
    "class Curry:\n",
    "    def __init__(self, func: Callable):\n",
    "        self._func = func\n",
    "        try:\n",
    "            self._signature = inspect.signature(func)\n",
    "        except ValueError:\n",
    "            self._signature = inspect.signature(func.__call__)\n",
    "        \n",
    "        self.__doc__ = getattr(func, '__doc__', None)\n",
    "        self.__name__ = getattr(func, '__name__', '<curry>')\n",
    "        self.__module__ = getattr(func, '__module__', None)\n",
    "        self.__qualname__ = getattr(func, '__qualname__', None)\n",
    "    \n",
    "    def __call__(self, *args, **kwargs):\n",
    "        func = partial(self._func, *args, **kwargs)\n",
    "        \n",
    "        is_ready = True\n",
    "        for param in self.signature.parameters.values():\n",
    "            if param.kind in (param.POSITIONAL_ONLY, param.POSITIONAL_OR_KEYWORD) \\\n",
    "            and param.default == param.empty:\n",
    "                is_ready = False\n",
    "                \n",
    "        if is_ready:\n",
    "            return func()\n",
    "            \n",
    "        return Curry(func)\n",
    "    \n",
    "    def call(self, *args, **kwargs):\n",
    "        return self._func(*args, **kwargs)\n",
    "    \n",
    "    @property\n",
    "    def signature(self):\n",
    "        return self._signature\n",
    "    \n",
    "    @property\n",
    "    def __signature__(self):\n",
    "        return self._signature\n",
    "    \n",
    "    def __repr__(self):\n",
    "        repr_str = self.signature.__repr__()\n",
    "        repr_str = repr_str.replace(\"Signature\", f\"{self._func.__module__}.{self._func.__name__}\", 1)\n",
    "        return repr_str\n",
    "    \n",
    "    def __and__(self, other: Callable):\n",
    "        if not isinstance(other, Curry):\n",
    "            other = Curry(other)\n",
    "        \n",
    "        def wrapper(*args, **kwargs) -> Any:\n",
    "            res = self.call(*args, **kwargs)\n",
    "            if not res:\n",
    "                return res\n",
    "            \n",
    "            return other.call(*args, **kwargs)\n",
    "\n",
    "        return Curry(wrapper)\n",
    "    \n",
    "    def __or__(self, other: Callable):\n",
    "        if not isinstance(other, Curry):\n",
    "            other = Curry(other)\n",
    "                \n",
    "        def wrapper(*args, **kwargs) -> Any:\n",
    "            res = self.call(*args, **kwargs)\n",
    "            if res:\n",
    "                return res\n",
    "            \n",
    "            return other.call(*args, **kwargs)\n",
    "        \n",
    "        return Curry(wrapper)\n",
    "    \n",
    "    def __invert__(self):\n",
    "        assert invertible(self.signature.return_annotation), \"Return type is not invertible\"\n",
    "        \n",
    "        def wrapper(*args, **kwargs) -> self.signature.return_annotation:\n",
    "            return not self.call(*args, **kwargs)\n",
    "        \n",
    "        return Curry(wrapper)\n",
    "    \n",
    "    def __rshift__(self, other: Callable):\n",
    "        if not isinstance(other, Curry):\n",
    "            other = Curry(other)\n",
    "\n",
    "        def wrapper(*args, **kwargs):\n",
    "            return other(self(*args, **kwargs))\n",
    "        \n",
    "        signature = self.signature.replace(return_annotation=other.signature.return_annotation)\n",
    "        setattr(wrapper, \"__signature__\", signature)\n",
    "        \n",
    "        return Curry(wrapper)\n",
    "    \n",
    "    def __lshift__(self, other: Callable):\n",
    "        if not isinstance(other, Curry):\n",
    "            other = Curry(other)\n",
    "\n",
    "        return other >> self\n",
    "            \n",
    "    \n",
    "\n",
    "def curry(func: Callable):\n",
    "    return Curry(func)\n",
    "\n",
    "\n",
    "@curry\n",
    "def eq(left: Any, right: Any) -> bool:\n",
    "    return op.eq(left, right)\n",
    "\n",
    "\n",
    "@curry\n",
    "def gt(left: Any, right: Any) -> bool:\n",
    "    return op.gt(left, right)\n",
    "\n",
    "\n",
    "@curry\n",
    "def lt(left: Any, right: Any) -> bool:\n",
    "    return op.lt(left, right)\n",
    "\n",
    "\n",
    "@curry\n",
    "def ge(left: Any, right: Any) -> bool:\n",
    "    return op.ge(left, right)\n",
    "\n",
    "\n",
    "@curry\n",
    "def le(left: Any, right: Any) -> bool:\n",
    "    return op.le(left, right)\n",
    "\n",
    "\n",
    "@curry\n",
    "def is_instance(bases: Union[Type, Tuple[Type, ...]], obj: Any) -> bool:\n",
    "    return isinstance(obj, bases)\n",
    "\n",
    "\n",
    "@curry\n",
    "def is_subclass(bases: Union[Type, Tuple[Type, ...]], cls: Type) -> bool:\n",
    "    return issubclass(cls, bases)\n",
    "\n",
    "\n",
    "@curry\n",
    "def is_in(\n",
    "    collection: Union[List[Any], Dict[Any, Any], Tuple[Any, ...]], val: Any\n",
    ") -> bool:\n",
    "    return val in collection\n",
    "\n",
    "\n",
    "@curry\n",
    "def peek_nth(index: int, seq: List[Any], default: Optional[Any] = Ellipsis) -> Any:\n",
    "    if hasattr(seq, \"__len__\"):\n",
    "        if 0 <= index < len(seq):\n",
    "            return seq[index]\n",
    "        return default\n",
    "\n",
    "    for i, val in enumerate(seq):\n",
    "        if i == index:\n",
    "            return val\n",
    "        \n",
    "    if default == Ellipsis:\n",
    "        raise IndexError(\"Index out of bound\")\n",
    "\n",
    "    return default\n",
    "\n",
    "\n",
    "def all(*predicates: List[Callable[[Any], bool]]) -> Callable[[Any], bool]:\n",
    "    def func(*args, **kwargs):\n",
    "        for predicate in predicates:\n",
    "            if not predicate(*args, **kwargs):\n",
    "                return False\n",
    "        return True\n",
    "\n",
    "    return func\n",
    "\n",
    "\n",
    "def any(*predicates: List[Callable[[Any], bool]]) -> Callable[[Any], bool]:\n",
    "    def func(*args, **kwargs):\n",
    "        for predicate in predicates:\n",
    "            if predicate(*args, **kwargs):\n",
    "                return True\n",
    "        return False\n",
    "\n",
    "    return func\n",
    "\n",
    "\n",
    "@curry\n",
    "def sort(iterable: Iterable[Any], key: Callable[[Any], Any]=None):\n",
    "    return sorted(iterable, key=key)"
   ]
  },
  {
   "cell_type": "code",
   "execution_count": 7,
   "id": "ddd51708",
   "metadata": {},
   "outputs": [],
   "source": [
    "comparator = gt(right=10) & print"
   ]
  },
  {
   "cell_type": "code",
   "execution_count": 9,
   "id": "d9c77a49",
   "metadata": {},
   "outputs": [
    {
     "data": {
      "text/plain": [
       "False"
      ]
     },
     "execution_count": 9,
     "metadata": {},
     "output_type": "execute_result"
    }
   ],
   "source": [
    "comparator(9)"
   ]
  },
  {
   "cell_type": "code",
   "execution_count": 16,
   "id": "e1386a76",
   "metadata": {},
   "outputs": [],
   "source": [
    "find = any(\n",
    "    gt(right=10) | identity,\n",
    "    lt(right=5) | identity\n",
    ")"
   ]
  },
  {
   "cell_type": "code",
   "execution_count": 17,
   "id": "fa080897",
   "metadata": {},
   "outputs": [
    {
     "data": {
      "text/plain": [
       "True"
      ]
     },
     "execution_count": 17,
     "metadata": {},
     "output_type": "execute_result"
    }
   ],
   "source": [
    "find(11)"
   ]
  },
  {
   "cell_type": "code",
   "execution_count": null,
   "id": "b444ff7d",
   "metadata": {},
   "outputs": [],
   "source": [
    "int.__call__"
   ]
  },
  {
   "cell_type": "code",
   "execution_count": null,
   "id": "ed309405",
   "metadata": {},
   "outputs": [],
   "source": [
    "is_prime = lambda val: val == 1 or all(val % num for num in range(2, val))"
   ]
  },
  {
   "cell_type": "code",
   "execution_count": null,
   "id": "b96736d1",
   "metadata": {},
   "outputs": [],
   "source": [
    "is_prime(17)"
   ]
  },
  {
   "cell_type": "code",
   "execution_count": null,
   "id": "be964106",
   "metadata": {},
   "outputs": [],
   "source": [
    "print_pyramid = lambda val: print(\"\\n\".join(\n",
    "    val[sum(range(i)):sum(range(i)) + i] \n",
    "    for i in range(1, len(val))\n",
    "    if sum(range(i)) < len(val)\n",
    "))"
   ]
  },
  {
   "cell_type": "code",
   "execution_count": null,
   "id": "f7384068",
   "metadata": {},
   "outputs": [],
   "source": [
    "print_pyramid(\"abcdefghjk\")"
   ]
  },
  {
   "cell_type": "code",
   "execution_count": null,
   "id": "70904587",
   "metadata": {},
   "outputs": [],
   "source": [
    "x = lambda x: x"
   ]
  },
  {
   "cell_type": "code",
   "execution_count": null,
   "id": "f187b191",
   "metadata": {},
   "outputs": [],
   "source": [
    "x.__call__"
   ]
  },
  {
   "cell_type": "code",
   "execution_count": null,
   "id": "195a06d2",
   "metadata": {},
   "outputs": [],
   "source": [
    "a = 1\n"
   ]
  },
  {
   "cell_type": "code",
   "execution_count": null,
   "id": "8d64eb1a",
   "metadata": {},
   "outputs": [],
   "source": [
    "a.__call__"
   ]
  },
  {
   "cell_type": "code",
   "execution_count": null,
   "id": "362266dd",
   "metadata": {},
   "outputs": [],
   "source": [
    "float.__class__.__module__ == 'builtins'"
   ]
  },
  {
   "cell_type": "code",
   "execution_count": null,
   "id": "78b7fcfc",
   "metadata": {},
   "outputs": [],
   "source": [
    "def foo(age: int):\n",
    "    pass"
   ]
  },
  {
   "cell_type": "code",
   "execution_count": null,
   "id": "b5aef806",
   "metadata": {},
   "outputs": [],
   "source": [
    "inspect.signature(foo)"
   ]
  },
  {
   "cell_type": "code",
   "execution_count": null,
   "id": "0820cb9f",
   "metadata": {},
   "outputs": [],
   "source": []
  }
 ],
 "metadata": {
  "kernelspec": {
   "display_name": "Python 3 (ipykernel)",
   "language": "python",
   "name": "python3"
  },
  "language_info": {
   "codemirror_mode": {
    "name": "ipython",
    "version": 3
   },
   "file_extension": ".py",
   "mimetype": "text/x-python",
   "name": "python",
   "nbconvert_exporter": "python",
   "pygments_lexer": "ipython3",
   "version": "3.8.13"
  }
 },
 "nbformat": 4,
 "nbformat_minor": 5
}
