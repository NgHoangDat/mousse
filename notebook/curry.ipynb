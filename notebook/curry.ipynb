{
 "cells": [
  {
   "cell_type": "code",
   "execution_count": 183,
   "id": "ae5b4dee",
   "metadata": {},
   "outputs": [],
   "source": [
    "import inspect\n",
    "import operator as op\n",
    "\n",
    "from functools import partial, wraps\n",
    "from typing import *"
   ]
  },
  {
   "cell_type": "code",
   "execution_count": 215,
   "id": "75582fb9",
   "metadata": {},
   "outputs": [],
   "source": [
    "def evaluable(dtype: Type[Any]) -> bool:\n",
    "    return hasattr(dtype, \"__bool__\") or hasattr(dtype, \"__len__\")\n",
    "\n",
    "\n",
    "def invertible(dtype: Type[Any]) -> bool:\n",
    "    return hasattr(dtype, \"__invert__\")\n",
    "\n",
    "\n",
    "class Curry:\n",
    "    def __init__(self, func: Callable):\n",
    "        self._func = func\n",
    "    \n",
    "    def __call__(self, *args, **kwargs):\n",
    "        func = partial(self._func, *args, **kwargs)\n",
    "        signature = inspect.signature(func)\n",
    "        \n",
    "        is_ready = True\n",
    "        for param in signature.parameters.values():\n",
    "            if param.kind in (param.POSITIONAL_ONLY, param.POSITIONAL_OR_KEYWORD) \\\n",
    "            and param.default == param.empty:\n",
    "                is_ready = False\n",
    "                \n",
    "        if is_ready:\n",
    "            return func()\n",
    "            \n",
    "        return Curry(func)\n",
    "    \n",
    "    def call(self, *args, **kwargs):\n",
    "        return self._func(*args, **kwargs)\n",
    "    \n",
    "    @property\n",
    "    def signature(self):\n",
    "        return inspect.signature(self._func)\n",
    "    \n",
    "    @property\n",
    "    def __signature__(self):\n",
    "        return self.signature\n",
    "    \n",
    "    def __and__(self, other: \"Curry\"):\n",
    "        assert evaluable(self.signature.return_annotation), \"Only apply to return annotation type bool\"\n",
    "        assert evaluable(other.signature.return_annotation), \"Only apply to return annotation type bool\"\n",
    "        \n",
    "        def wrapper(*args, **kwargs) -> bool:\n",
    "            if not self.call(*args, **kwargs):\n",
    "                return False\n",
    "            \n",
    "            if not other.call(*args, **kwargs):\n",
    "                return False\n",
    "            \n",
    "            return True\n",
    "        \n",
    "        return Curry(wrapper)\n",
    "    \n",
    "    def __or__(self, other: \"Curry\"):\n",
    "        assert evaluable(self.signature.return_annotation), \"Only apply to return annotation type bool\"\n",
    "        assert evaluable(other.signature.return_annotation), \"Only apply to return annotation type bool\"\n",
    "        \n",
    "        def wrapper(*args, **kwargs) -> bool:\n",
    "            if self.call(*args, **kwargs):\n",
    "                return True\n",
    "            \n",
    "            if other.call(*args, **kwargs):\n",
    "                return True\n",
    "            \n",
    "            return False\n",
    "        \n",
    "        return Curry(wrapper)\n",
    "    \n",
    "    def __invert__(self):\n",
    "        assert invertible(self.signature.return_annotation), \"Return type is not invertible\"\n",
    "        \n",
    "        def wrapper(*args, **kwargs) -> self.signature.return_annotation:\n",
    "            return not self.call(*args, **kwargs)\n",
    "        \n",
    "        return Curry(wrapper)\n",
    "    \n",
    "    def __rshift__(self, other: \"Curry\"):\n",
    "        def wrapper(*args, **kwargs):\n",
    "            return other(self(*args, **kwargs))\n",
    "        \n",
    "        signature = self.signature.replace(return_annotation=other.signature.return_annotation)\n",
    "        setattr(wrapper, \"__signature__\", signature)\n",
    "        \n",
    "        return Curry(wrapper)\n",
    "    \n",
    "    def __lshift__(self, other: \"Curry\"):\n",
    "        return other >> self\n",
    "    \n",
    "    def __repr__(self):\n",
    "        return self.signature.__repr__()\n",
    "\n",
    "def curry(func: Callable):\n",
    "    return Curry(func)\n",
    "\n",
    "\n",
    "@curry\n",
    "def eq(left: Any, right: Any) -> bool:\n",
    "    return op.eq(left, right)\n",
    "\n",
    "\n",
    "@curry\n",
    "def gt(left: Any, right: Any) -> bool:\n",
    "    return op.gt(left, right)\n",
    "\n",
    "\n",
    "@curry\n",
    "def lt(left: Any, right: Any) -> bool:\n",
    "    return op.lt(left, right)\n",
    "\n",
    "\n",
    "@curry\n",
    "def ge(left: Any, right: Any) -> bool:\n",
    "    return op.ge(left, right)\n",
    "\n",
    "\n",
    "@curry\n",
    "def le(left: Any, right: Any) -> bool:\n",
    "    return op.le(left, right)\n",
    "\n",
    "\n",
    "@curry\n",
    "def is_instance(bases: Union[Type, Tuple[Type, ...]], obj: Any) -> bool:\n",
    "    return isinstance(obj, bases)\n",
    "\n",
    "\n",
    "@curry\n",
    "def is_subclass(bases: Union[Type, Tuple[Type, ...]], cls: Type) -> bool:\n",
    "    return issubclass(cls, bases)\n",
    "\n",
    "\n",
    "@curry\n",
    "def is_in(\n",
    "    collection: Union[List[Any], Dict[Any, Any], Tuple[Any, ...]], val: Any\n",
    ") -> bool:\n",
    "    return val in collection\n",
    "\n",
    "\n",
    "@curry\n",
    "def peek_nth(index: int, seq: List[Any], default: Optional[Any] = Ellipsis) -> Any:\n",
    "    if hasattr(seq, \"__len__\"):\n",
    "        if 0 <= index < len(seq):\n",
    "            return seq[index]\n",
    "        return default\n",
    "\n",
    "    for i, val in enumerate(seq):\n",
    "        if i == index:\n",
    "            return val\n",
    "        \n",
    "    if default == Ellipsis:\n",
    "        raise IndexError(\"Index out of bound\")\n",
    "\n",
    "    return default\n",
    "\n",
    "\n",
    "def all(*predicates: List[Callable[[Any], bool]]) -> Callable[[Any], bool]:\n",
    "    def func(*args, **kwargs):\n",
    "        for predicate in predicates:\n",
    "            if not predicate(*args, **kwargs):\n",
    "                return False\n",
    "        return True\n",
    "\n",
    "    return func\n",
    "\n",
    "\n",
    "def any(*predicates: List[Callable[[Any], bool]]) -> Callable[[Any], bool]:\n",
    "    def func(*args, **kwargs):\n",
    "        for predicate in predicates:\n",
    "            if predicate(*args, **kwargs):\n",
    "                return True\n",
    "        return False\n",
    "\n",
    "    return func\n",
    "\n",
    "\n",
    "@curry\n",
    "def sort(iterable: Iterable[Any], key: Callable[[Any], Any]=None):\n",
    "    return sorted(iterable, key=key)"
   ]
  },
  {
   "cell_type": "code",
   "execution_count": null,
   "id": "ddd51708",
   "metadata": {},
   "outputs": [],
   "source": []
  },
  {
   "cell_type": "code",
   "execution_count": 210,
   "id": "d9c77a49",
   "metadata": {},
   "outputs": [],
   "source": [
    "gte = peek_nth(2) >> gt(right=10)"
   ]
  },
  {
   "cell_type": "code",
   "execution_count": 218,
   "id": "650b3091",
   "metadata": {},
   "outputs": [
    {
     "data": {
      "text/plain": [
       "[2, 1, 1]"
      ]
     },
     "execution_count": 218,
     "metadata": {},
     "output_type": "execute_result"
    }
   ],
   "source": [
    "sort(key=lambda x: -x)([1, 1, 2])"
   ]
  },
  {
   "cell_type": "code",
   "execution_count": 161,
   "id": "e1386a76",
   "metadata": {},
   "outputs": [],
   "source": [
    "a = 1"
   ]
  },
  {
   "cell_type": "code",
   "execution_count": 165,
   "id": "fa080897",
   "metadata": {},
   "outputs": [
    {
     "data": {
      "text/plain": [
       "<Signature (name: str, age: int, *args, **kwargs) -> None>"
      ]
     },
     "execution_count": 165,
     "metadata": {},
     "output_type": "execute_result"
    }
   ],
   "source": [
    "sig.replace(return_annotation=None)"
   ]
  },
  {
   "cell_type": "code",
   "execution_count": 98,
   "id": "b444ff7d",
   "metadata": {},
   "outputs": [
    {
     "data": {
      "text/plain": [
       "False"
      ]
     },
     "execution_count": 98,
     "metadata": {},
     "output_type": "execute_result"
    }
   ],
   "source": [
    "None.__bool__()"
   ]
  },
  {
   "cell_type": "code",
   "execution_count": 124,
   "id": "ed309405",
   "metadata": {},
   "outputs": [],
   "source": [
    "is_prime = lambda val: val == 1 or all(val % num for num in range(2, val))"
   ]
  },
  {
   "cell_type": "code",
   "execution_count": 129,
   "id": "b96736d1",
   "metadata": {},
   "outputs": [
    {
     "data": {
      "text/plain": [
       "True"
      ]
     },
     "execution_count": 129,
     "metadata": {},
     "output_type": "execute_result"
    }
   ],
   "source": [
    "is_prime(17)"
   ]
  },
  {
   "cell_type": "code",
   "execution_count": 148,
   "id": "be964106",
   "metadata": {},
   "outputs": [],
   "source": [
    "print_pyramid = lambda val: print(\"\\n\".join(\n",
    "    val[sum(range(i)):sum(range(i)) + i] \n",
    "    for i in range(1, len(val))\n",
    "    if sum(range(i)) < len(val)\n",
    "))"
   ]
  },
  {
   "cell_type": "code",
   "execution_count": 150,
   "id": "f7384068",
   "metadata": {},
   "outputs": [
    {
     "name": "stdout",
     "output_type": "stream",
     "text": [
      "a\n",
      "bc\n",
      "def\n",
      "ghjk\n"
     ]
    }
   ],
   "source": [
    "print_pyramid(\"abcdefghjk\")"
   ]
  },
  {
   "cell_type": "code",
   "execution_count": null,
   "id": "70904587",
   "metadata": {},
   "outputs": [],
   "source": []
  }
 ],
 "metadata": {
  "kernelspec": {
   "display_name": "Python 3 (ipykernel)",
   "language": "python",
   "name": "python3"
  },
  "language_info": {
   "codemirror_mode": {
    "name": "ipython",
    "version": 3
   },
   "file_extension": ".py",
   "mimetype": "text/x-python",
   "name": "python",
   "nbconvert_exporter": "python",
   "pygments_lexer": "ipython3",
   "version": "3.8.13"
  }
 },
 "nbformat": 4,
 "nbformat_minor": 5
}
