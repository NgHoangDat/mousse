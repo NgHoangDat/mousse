{
 "cells": [
  {
   "cell_type": "code",
   "execution_count": 14,
   "id": "509e66b8",
   "metadata": {},
   "outputs": [],
   "source": [
    "import json\n",
    "from enum import Enum\n",
    "from typing import *\n",
    "\n",
    "from mousse import Dataclass, Field, asclass, asdict\n",
    "from mousse.data.field import get_fields_info"
   ]
  },
  {
   "cell_type": "code",
   "execution_count": 3,
   "id": "d58300ac",
   "metadata": {},
   "outputs": [],
   "source": [
    "class DType(str, Enum):\n",
    "    BOOL = \"bool\"\n",
    "    STRING = \"str\"\n",
    "    INT = \"int\"\n",
    "\n",
    "\n",
    "class Foo(Dataclass):\n",
    "    dtype: DType"
   ]
  },
  {
   "cell_type": "code",
   "execution_count": 4,
   "id": "e508a5e4",
   "metadata": {},
   "outputs": [],
   "source": [
    "foo = {\n",
    "  \"dtype\": \"str\"\n",
    "}"
   ]
  },
  {
   "cell_type": "code",
   "execution_count": 15,
   "id": "e07d2bb8",
   "metadata": {},
   "outputs": [
    {
     "data": {
      "text/plain": [
       "'{\"dtype\": \"str\"}'"
      ]
     },
     "execution_count": 15,
     "metadata": {},
     "output_type": "execute_result"
    }
   ],
   "source": [
    "json.dumps(asdict(asclass(Foo, foo)))"
   ]
  },
  {
   "cell_type": "code",
   "execution_count": 4,
   "id": "7b19fc0b",
   "metadata": {},
   "outputs": [
    {
     "data": {
      "text/plain": [
       "1"
      ]
     },
     "execution_count": 4,
     "metadata": {},
     "output_type": "execute_result"
    }
   ],
   "source": [
    "get_fields_info(ODAnnotation)[\"annotation_id\"].default"
   ]
  },
  {
   "cell_type": "code",
   "execution_count": 5,
   "id": "5b683c25",
   "metadata": {},
   "outputs": [
    {
     "data": {
      "text/plain": [
       "{'id': 2,\n",
       " 'image_id': 1,\n",
       " 'category_id': 0,\n",
       " 'keypoints': [1.0, 2.0],\n",
       " 'attributes': {'has_mask': True},\n",
       " 'bbox': (386.0, 299.0, 14.0, 16.0),\n",
       " 'area': 224.0,\n",
       " 'score': 1.0}"
      ]
     },
     "execution_count": 5,
     "metadata": {},
     "output_type": "execute_result"
    }
   ],
   "source": [
    "asdict(asclass(ODAnnotation, annotation))"
   ]
  },
  {
   "cell_type": "code",
   "execution_count": 6,
   "id": "a5b522a7",
   "metadata": {},
   "outputs": [
    {
     "data": {
      "text/plain": [
       "False"
      ]
     },
     "execution_count": 6,
     "metadata": {},
     "output_type": "execute_result"
    }
   ],
   "source": [
    "isinstance(Dict[str, Any], Dict)"
   ]
  },
  {
   "cell_type": "code",
   "execution_count": 7,
   "id": "028b59c0",
   "metadata": {},
   "outputs": [
    {
     "data": {
      "text/plain": [
       "'Dict'"
      ]
     },
     "execution_count": 7,
     "metadata": {},
     "output_type": "execute_result"
    }
   ],
   "source": [
    "Dict[str, Any]._name"
   ]
  },
  {
   "cell_type": "code",
   "execution_count": null,
   "id": "2d8124c9",
   "metadata": {},
   "outputs": [],
   "source": []
  }
 ],
 "metadata": {
  "interpreter": {
   "hash": "a1c1b524d93823f3badcbe66e28ec8b07d2e6a2c807ed07bd1cd6806256258a3"
  },
  "kernelspec": {
   "display_name": "Python 3.8.13",
   "language": "python",
   "name": "python3"
  },
  "language_info": {
   "codemirror_mode": {
    "name": "ipython",
    "version": 3
   },
   "file_extension": ".py",
   "mimetype": "text/x-python",
   "name": "python",
   "nbconvert_exporter": "python",
   "pygments_lexer": "ipython3",
   "version": "3.8.13"
  }
 },
 "nbformat": 4,
 "nbformat_minor": 5
}
