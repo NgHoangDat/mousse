{
 "cells": [
  {
   "cell_type": "code",
   "execution_count": 1,
   "id": "160109a9",
   "metadata": {},
   "outputs": [],
   "source": [
    "from enum import Enum\n",
    "\n",
    "from mousse import Dataclass\n",
    "\n",
    "\n",
    "class SignalCode(str, Enum):\n",
    "    KILL = \"KILL\"\n",
    "    NONE = \"NONE\"\n",
    "\n",
    "\n",
    "class Signal(Dataclass):\n",
    "    code: SignalCode = SignalCode.NONE    \n",
    "        \n",
    "        \n",
    "class LocalDatabaseUpdaterSignal(Signal):\n",
    "    image_path: str = \"\""
   ]
  },
  {
   "cell_type": "code",
   "execution_count": 2,
   "id": "3c31753b",
   "metadata": {},
   "outputs": [],
   "source": [
    "a = LocalDatabaseUpdaterSignal(image_path=\"Hello\")"
   ]
  },
  {
   "cell_type": "code",
   "execution_count": 6,
   "id": "afb47b1c",
   "metadata": {},
   "outputs": [
    {
     "name": "stdout",
     "output_type": "stream",
     "text": [
      "image_path Hello\n"
     ]
    }
   ],
   "source": [
    "for k, v in a:\n",
    "    print(k, v)"
   ]
  },
  {
   "cell_type": "code",
   "execution_count": 5,
   "id": "152d9ab3",
   "metadata": {},
   "outputs": [
    {
     "data": {
      "text/plain": [
       "{}"
      ]
     },
     "execution_count": 5,
     "metadata": {},
     "output_type": "execute_result"
    }
   ],
   "source": [
    "a.__dict__"
   ]
  },
  {
   "cell_type": "code",
   "execution_count": null,
   "id": "662580ec",
   "metadata": {},
   "outputs": [],
   "source": []
  }
 ],
 "metadata": {
  "kernelspec": {
   "display_name": "Python 3 (ipykernel)",
   "language": "python",
   "name": "python3"
  },
  "language_info": {
   "codemirror_mode": {
    "name": "ipython",
    "version": 3
   },
   "file_extension": ".py",
   "mimetype": "text/x-python",
   "name": "python",
   "nbconvert_exporter": "python",
   "pygments_lexer": "ipython3",
   "version": "3.8.13"
  }
 },
 "nbformat": 4,
 "nbformat_minor": 5
}
