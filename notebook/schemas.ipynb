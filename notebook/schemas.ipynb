{
 "cells": [
  {
   "cell_type": "code",
   "execution_count": 1,
   "id": "d51f09d7",
   "metadata": {},
   "outputs": [],
   "source": [
    "from typing import *\n",
    "from mousse import Dataclass, asclass, Field, validate"
   ]
  },
  {
   "cell_type": "code",
   "execution_count": 2,
   "id": "3196e1d6",
   "metadata": {},
   "outputs": [],
   "source": [
    "class Foo(Dataclass):\n",
    "    age: int = Field(alias=\"num\", validator=lambda x: 18 <= x < 60)\n",
    "        \n",
    "        \n",
    "class Bar(Dataclass):\n",
    "    foo: Foo = Field(validator=lambda foo: foo.age >= 24)"
   ]
  },
  {
   "cell_type": "code",
   "execution_count": 8,
   "id": "5ea1a1fe",
   "metadata": {},
   "outputs": [
    {
     "name": "stdout",
     "output_type": "stream",
     "text": [
      "CPU times: user 52 µs, sys: 9 µs, total: 61 µs\n",
      "Wall time: 63.4 µs\n"
     ]
    },
    {
     "data": {
      "text/plain": [
       "True"
      ]
     },
     "execution_count": 8,
     "metadata": {},
     "output_type": "execute_result"
    }
   ],
   "source": [
    "%time validate(Bar, {\"foo\": {\"num\": 25}}, as_schema=True)"
   ]
  },
  {
   "cell_type": "code",
   "execution_count": 4,
   "id": "093990fe",
   "metadata": {},
   "outputs": [
    {
     "data": {
      "text/plain": [
       "True"
      ]
     },
     "execution_count": 4,
     "metadata": {},
     "output_type": "execute_result"
    }
   ],
   "source": [
    "isinstance({}, Mapping)"
   ]
  },
  {
   "cell_type": "code",
   "execution_count": null,
   "id": "e04d2bd0",
   "metadata": {},
   "outputs": [],
   "source": []
  }
 ],
 "metadata": {
  "kernelspec": {
   "display_name": "Python 3 (ipykernel)",
   "language": "python",
   "name": "python3"
  },
  "language_info": {
   "codemirror_mode": {
    "name": "ipython",
    "version": 3
   },
   "file_extension": ".py",
   "mimetype": "text/x-python",
   "name": "python",
   "nbconvert_exporter": "python",
   "pygments_lexer": "ipython3",
   "version": "3.8.13"
  }
 },
 "nbformat": 4,
 "nbformat_minor": 5
}
