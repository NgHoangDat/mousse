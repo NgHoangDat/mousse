{
 "cells": [
  {
   "cell_type": "code",
   "execution_count": 1,
   "id": "d368a269",
   "metadata": {},
   "outputs": [],
   "source": [
    "import inspect\n",
    "\n",
    "from collections import OrderedDict\n",
    "\n",
    "from typing import *\n",
    "from mousse import validate"
   ]
  },
  {
   "cell_type": "code",
   "execution_count": 2,
   "id": "8fac0f45",
   "metadata": {},
   "outputs": [],
   "source": [
    "def cal_match_score(func: Callable, /, *args, **kwargs):\n",
    "    signature = inspect.signature(func)\n",
    "    parameters = signature.parameters\n",
    "    \n",
    "    parameters = OrderedDict(parameters.items())\n",
    "    score = 0\n",
    "    kwargs = kwargs.copy()\n",
    "    \n",
    "    has_var_args = False\n",
    "    for param in parameters.values():\n",
    "        if param.kind == param.VAR_POSITIONAL:\n",
    "            has_var_args = True\n",
    "            break\n",
    "            \n",
    "    if has_var_args:\n",
    "        parameters.pop(param.name)\n",
    "        \n",
    "    has_var_kwargs = False\n",
    "    for param in parameters.values():\n",
    "        if param.kind == param.VAR_KEYWORD:\n",
    "            has_var_kwargs = True\n",
    "            break\n",
    "            \n",
    "    if has_var_kwargs:\n",
    "        parameters.pop(param.name)\n",
    "\n",
    "    positional_only_params = [\n",
    "        param for param in parameters.values()\n",
    "        if param.kind == param.POSITIONAL_ONLY\n",
    "    ]\n",
    "\n",
    "    if len(positional_only_params) > len(args):\n",
    "        return -1\n",
    "    \n",
    "    for arg, param in zip(args, positional_only_params):\n",
    "        parameters.pop(param.name)\n",
    "    \n",
    "        if param.annotation in (inspect._empty, Any):\n",
    "            score += 1\n",
    "            continue\n",
    "\n",
    "        if validate(param.annotation, arg):\n",
    "            score += 2\n",
    "            continue\n",
    "        \n",
    "        return -1\n",
    "        \n",
    "    args = args[len(positional_only_params):]\n",
    "    \n",
    "    positional_or_keyword_params = [\n",
    "        param for param in parameters.values()\n",
    "        if param.kind == param.POSITIONAL_OR_KEYWORD\n",
    "    ]\n",
    "    \n",
    "    if len(args) > len(positional_or_keyword_params):\n",
    "        if not has_var_args:\n",
    "            return -1\n",
    "        score += 1\n",
    "    \n",
    "    for arg, param in zip(args, positional_or_keyword_params):\n",
    "        parameters.pop(param.name)\n",
    "        if param.annotation in (inspect._empty, Any):\n",
    "            score += 1\n",
    "            continue\n",
    "\n",
    "        if validate(param.annotation, arg):\n",
    "            score += 2\n",
    "            continue\n",
    "\n",
    "        return -1\n",
    "        \n",
    "    for key in kwargs:\n",
    "        if key not in parameters:\n",
    "            if has_var_kwargs:\n",
    "                score += 1\n",
    "                break\n",
    "\n",
    "            return -1\n",
    "    \n",
    "    for key, val in kwargs.items():\n",
    "        if key in parameters:\n",
    "            param = parameters.pop(key)\n",
    "            if param.annotation in (inspect._empty, Any):\n",
    "                score += 1\n",
    "                continue\n",
    "                \n",
    "            if validate(param.annotation, val):\n",
    "                score += 2\n",
    "                continue\n",
    "\n",
    "            return -1\n",
    "        \n",
    "    for param in parameters.values():\n",
    "        if param.default == inspect._empty:\n",
    "            return -1\n",
    "    \n",
    "    return score"
   ]
  },
  {
   "cell_type": "code",
   "execution_count": 3,
   "id": "5a87886e",
   "metadata": {},
   "outputs": [],
   "source": [
    "class Polymorphism:\n",
    "    def __init__(self):\n",
    "        self._funcs = []\n",
    "        self._hashes = set()\n",
    "        \n",
    "    def __call__(self, *args, **kwargs) -> Any:\n",
    "        best_matches = []\n",
    "        best_score = -1\n",
    "        \n",
    "        for func in self._funcs:\n",
    "            score = cal_match_score(func, *args, **kwargs)\n",
    "            if score > best_score:\n",
    "                best_score = score\n",
    "                best_matches.clear()\n",
    "                \n",
    "            if score == best_score:\n",
    "                best_matches.append(func)\n",
    "                \n",
    "        assert len(best_matches) <= 1, \"Multiple matches found\"\n",
    "        assert len(best_matches) >= 0, \"No match found\"\n",
    "        \n",
    "        match = best_matches.pop()\n",
    "\n",
    "        return match(*args, **kwargs)\n",
    "    \n",
    "    def __signature__(self):\n",
    "        def dummy(*args, **kwargs) -> Any:\n",
    "            pass\n",
    "        return inspect.signature(dummy)\n",
    "    \n",
    "    def add(self, func: Callable):\n",
    "        lines = inspect.getsource(func)\n",
    "        lines = [\n",
    "            line for line in inspect.getsource(func)\n",
    "            if line.strip()\n",
    "        ]\n",
    "        func_hash = hash(\"\".join(lines))\n",
    "        \n",
    "        if func_hash not in self._hashes:\n",
    "            self._funcs.append(func)\n",
    "            self._hashes.add(func_hash)\n",
    "            \n",
    "    def clear(self):\n",
    "        self._funcs.clear()\n",
    "        self._hashes.clear()\n",
    "    \n",
    "    \n",
    "def polymorphism(func: Callable):\n",
    "    _locals = inspect.currentframe().f_back.f_locals\n",
    "    if func.__name__ not in _locals:\n",
    "        _locals[func.__name__] = Polymorphism()\n",
    "\n",
    "    poly = _locals[func.__name__]\n",
    "    poly.add(func)\n",
    "    \n",
    "    return poly"
   ]
  },
  {
   "cell_type": "code",
   "execution_count": 4,
   "id": "5cd4d2a4",
   "metadata": {},
   "outputs": [],
   "source": [
    "@polymorphism\n",
    "def foo():\n",
    "    print(\"None\")\n",
    "    \n",
    "\n",
    "@polymorphism\n",
    "def foo(name: str):\n",
    "    print(f\"Name: {name}\")\n",
    "   \n",
    "\n",
    "@polymorphism\n",
    "def foo(age: int):\n",
    "    print(f\"Age: {age}\")"
   ]
  },
  {
   "cell_type": "code",
   "execution_count": 5,
   "id": "74ea26f1",
   "metadata": {},
   "outputs": [
    {
     "data": {
      "text/plain": [
       "<Signature (*args, **kwargs) -> Any>"
      ]
     },
     "execution_count": 5,
     "metadata": {},
     "output_type": "execute_result"
    }
   ],
   "source": [
    "foo.__signature__()"
   ]
  },
  {
   "cell_type": "code",
   "execution_count": 9,
   "id": "ab2d2b26",
   "metadata": {},
   "outputs": [
    {
     "data": {
      "text/plain": [
       "b't\\x00d\\x01|\\x00\\x9b\\x00\\x9d\\x02\\x83\\x01\\x01\\x00d\\x00S\\x00'"
      ]
     },
     "execution_count": 9,
     "metadata": {},
     "output_type": "execute_result"
    }
   ],
   "source": [
    "fooz.__code__.co_code"
   ]
  },
  {
   "cell_type": "code",
   "execution_count": 16,
   "id": "c59b41d9",
   "metadata": {},
   "outputs": [
    {
     "data": {
      "text/plain": [
       "inspect._empty"
      ]
     },
     "execution_count": 16,
     "metadata": {},
     "output_type": "execute_result"
    }
   ],
   "source": [
    "inspect.signature(fooz).parameters[\"name\"].default"
   ]
  },
  {
   "cell_type": "code",
   "execution_count": 94,
   "id": "e771b4f7",
   "metadata": {},
   "outputs": [
    {
     "ename": "AttributeError",
     "evalue": "'tuple' object has no attribute 'clone'",
     "output_type": "error",
     "traceback": [
      "\u001b[0;31m---------------------------------------------------------------------------\u001b[0m",
      "\u001b[0;31mAttributeError\u001b[0m                            Traceback (most recent call last)",
      "Input \u001b[0;32mIn [94]\u001b[0m, in \u001b[0;36m<cell line: 1>\u001b[0;34m()\u001b[0m\n\u001b[0;32m----> 1\u001b[0m \u001b[43m(\u001b[49m\u001b[38;5;241;43m1\u001b[39;49m\u001b[43m,\u001b[49m\u001b[43m \u001b[49m\u001b[38;5;241;43m2\u001b[39;49m\u001b[43m)\u001b[49m\u001b[38;5;241;43m.\u001b[39;49m\u001b[43mclone\u001b[49m()\n",
      "\u001b[0;31mAttributeError\u001b[0m: 'tuple' object has no attribute 'clone'"
     ]
    }
   ],
   "source": [
    "(1, 2).count()"
   ]
  },
  {
   "cell_type": "code",
   "execution_count": 7,
   "id": "7764753c",
   "metadata": {},
   "outputs": [
    {
     "data": {
      "text/plain": [
       "<__main__.Polymorphism at 0x7f95f810e280>"
      ]
     },
     "execution_count": 7,
     "metadata": {},
     "output_type": "execute_result"
    }
   ],
   "source": [
    "foo"
   ]
  },
  {
   "cell_type": "code",
   "execution_count": null,
   "id": "6bda0f5e",
   "metadata": {},
   "outputs": [],
   "source": []
  }
 ],
 "metadata": {
  "kernelspec": {
   "display_name": "Python 3.8.13 (conda)",
   "language": "python",
   "name": "python3"
  },
  "language_info": {
   "codemirror_mode": {
    "name": "ipython",
    "version": 3
   },
   "file_extension": ".py",
   "mimetype": "text/x-python",
   "name": "python",
   "nbconvert_exporter": "python",
   "pygments_lexer": "ipython3",
   "version": "3.8.13"
  },
  "vscode": {
   "interpreter": {
    "hash": "410031b40c5a7c9ab458d1e1891294bd758324dd174cf6ba8db7a62b614ef71d"
   }
  }
 },
 "nbformat": 4,
 "nbformat_minor": 5
}
