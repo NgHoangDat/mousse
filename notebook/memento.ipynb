{
 "cells": [
  {
   "cell_type": "code",
   "execution_count": 1,
   "id": "7abaef2e",
   "metadata": {},
   "outputs": [],
   "source": [
    "import inspect\n",
    "from typing import *"
   ]
  },
  {
   "cell_type": "code",
   "execution_count": 34,
   "id": "1684e1d9",
   "metadata": {},
   "outputs": [],
   "source": [
    "class MementorItemAccess:\n",
    "    def __init__(self, key: str, default: Any = None):\n",
    "        self.key = key\n",
    "        self.default = default\n",
    "    \n",
    "    def __get__(self, obj: \"Mementor\", *args, **kwargs):\n",
    "        return getattr(obj, f\"__{self.key}\", self.default)\n",
    "\n",
    "    def __set__(self, obj: \"Mementor\", value: Any):\n",
    "        state = getattr(obj, \"__STATE\")\n",
    "        state[self.key] = value\n",
    "        setattr(obj, f\"__{self.key}\", value)\n",
    "\n",
    "\n",
    "\n",
    "class MementoMetaclass(type):\n",
    "    def __new__(cls, name: str, bases: Tuple[type, ...], data: Dict[str, Any], max_size: int = -1):\n",
    "        if \"__annotations__\" in data:\n",
    "            annotations = data.pop(\"__annotations__\")\n",
    "            for key, dtype in annotations.items():\n",
    "                assert not key.startswith(\"_\") and key != \"STATE\", f\"Invalid name: {key}\"\n",
    "                default_val = None\n",
    "                if key in data:\n",
    "                    default_val = data.pop(key)\n",
    "\n",
    "                data[key] = MementorItemAccess(key, default_val)\n",
    "            \n",
    "        return super().__new__(cls, name, bases, data)\n",
    "    \n",
    "    \n",
    "class Memento(metaclass=MementoMetaclass):\n",
    "    def __new__(cls, *args, **kwargs):\n",
    "        instance = super().__new__(cls, *args, **kwargs)\n",
    "        setattr(instance, \"__STATE\", {})\n",
    "        return instance"
   ]
  },
  {
   "cell_type": "code",
   "execution_count": 42,
   "id": "5015a5a4",
   "metadata": {},
   "outputs": [],
   "source": [
    "class ConcreteMemento(Memento):\n",
    "    name: str = \"hello\""
   ]
  },
  {
   "cell_type": "code",
   "execution_count": 43,
   "id": "2fbe43d9",
   "metadata": {},
   "outputs": [],
   "source": [
    "a = ConcreteMemento()"
   ]
  },
  {
   "cell_type": "code",
   "execution_count": 44,
   "id": "e6f8163f",
   "metadata": {},
   "outputs": [],
   "source": [
    "a.name = \"a\""
   ]
  },
  {
   "cell_type": "code",
   "execution_count": 45,
   "id": "3fd96dec",
   "metadata": {},
   "outputs": [
    {
     "data": {
      "text/plain": [
       "{'name': 'a'}"
      ]
     },
     "execution_count": 45,
     "metadata": {},
     "output_type": "execute_result"
    }
   ],
   "source": [
    "a.__STATE"
   ]
  },
  {
   "cell_type": "code",
   "execution_count": 46,
   "id": "adb787b5",
   "metadata": {},
   "outputs": [],
   "source": [
    "a.name = \"b\""
   ]
  },
  {
   "cell_type": "code",
   "execution_count": 47,
   "id": "a2f526c2",
   "metadata": {},
   "outputs": [
    {
     "data": {
      "text/plain": [
       "{'name': 'b'}"
      ]
     },
     "execution_count": 47,
     "metadata": {},
     "output_type": "execute_result"
    }
   ],
   "source": [
    "a.__STATE"
   ]
  },
  {
   "cell_type": "code",
   "execution_count": 48,
   "id": "29107331",
   "metadata": {},
   "outputs": [
    {
     "name": "stdout",
     "output_type": "stream",
     "text": [
      "{'name': 'b'}\n"
     ]
    }
   ],
   "source": [
    "a.greet()"
   ]
  },
  {
   "cell_type": "code",
   "execution_count": null,
   "id": "830a0f70",
   "metadata": {},
   "outputs": [],
   "source": []
  }
 ],
 "metadata": {
  "kernelspec": {
   "display_name": "Python 3 (ipykernel)",
   "language": "python",
   "name": "python3"
  },
  "language_info": {
   "codemirror_mode": {
    "name": "ipython",
    "version": 3
   },
   "file_extension": ".py",
   "mimetype": "text/x-python",
   "name": "python",
   "nbconvert_exporter": "python",
   "pygments_lexer": "ipython3",
   "version": "3.8.13"
  }
 },
 "nbformat": 4,
 "nbformat_minor": 5
}
