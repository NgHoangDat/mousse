{
 "cells": [
  {
   "cell_type": "code",
   "execution_count": 4,
   "id": "216ecc00",
   "metadata": {},
   "outputs": [],
   "source": [
    "from abc import ABCMeta, abstractmethod\n",
    "from collections import defaultdict\n",
    "from typing import *\n",
    "\n",
    "from mousse import Accessor, Dataclass\n",
    "from mousse.data import DataMetaclass"
   ]
  },
  {
   "cell_type": "code",
   "execution_count": 22,
   "id": "4374e903",
   "metadata": {},
   "outputs": [
    {
     "name": "stdout",
     "output_type": "stream",
     "text": [
      "<class '__main__.MediatorItemAccess'>\n",
      "{'__module__': '__main__', '__qualname__': 'Mediator', '__new__': <function Mediator.__new__ at 0x10930c8b0>, 'build': <function Mediator.build at 0x10930c940>, 'notify': <function Mediator.notify at 0x107443ee0>, 'add': <function Mediator.add at 0x1092dcc10>, '__classcell__': <cell at 0x1084500a0: empty>, '__init__': <function DataMetaclass.__new__.<locals>.__init__ at 0x1092dc670>, '__copy__': <function DataMetaclass.__new__.<locals>.__copy__ at 0x1092dc3a0>, '__deepcopy__': <function DataMetaclass.__new__.<locals>.__deepcopy__ at 0x1092dc1f0>, '__iter__': <function DataMetaclass.__new__.<locals>.__iter__ at 0x1092dc040>, '__repr__': <function DataMetaclass.__new__.<locals>.__repr__ at 0x1092dcf70>}\n"
     ]
    }
   ],
   "source": [
    "class Listener(metaclass=ABCMeta):\n",
    "    @abstractmethod\n",
    "    def on_change(self, key: str, val: Any, mediator: \"Mediator\" = None):\n",
    "        pass\n",
    "\n",
    "    \n",
    "class MediatorItemAccess(Accessor):    \n",
    "    def __set__(self, obj: \"Mediator\", value: Any):\n",
    "        print(obj)\n",
    "        obj.notify(self.key)\n",
    "        super().__set__(obj, value)\n",
    "\n",
    "\n",
    "class MediatorMetaclass(DataMetaclass):\n",
    "    def __new__(cls, name: str, bases: Tuple[type, ...], data: Dict[str, Any], accessor: Type[Accessor] = MediatorItemAccess):\n",
    "        return super().__new__(cls, name, bases, data, accessor=accessor)         \n",
    "    \n",
    "    \n",
    "class Mediator(metaclass=MediatorMetaclass):\n",
    "    def __new__(cls):\n",
    "        instance = super().__new__(cls)\n",
    "        instance.listeners: Dict[str, List[Listener]] = defaultdict(list)\n",
    "        return instance\n",
    "    \n",
    "    def build(self, *args, **kwargs):\n",
    "        pass\n",
    "        \n",
    "    def notify(self, key: str):\n",
    "        unique_listeners = set()\n",
    "        for listener in self.listeners[key]:\n",
    "            unique_listeners.add(listener)\n",
    "            \n",
    "        for listener in self.listeners[\"\"]:\n",
    "            unique_listeners.add(listener)\n",
    "        \n",
    "        val = getattr(self, key)\n",
    "        for listener in unique_listeners:\n",
    "            listener.on_change(key, val, mediator=self)\n",
    "            \n",
    "    def add(self, listener: \"Listener\", *keys: List[str]):\n",
    "        if len(keys) == 0:\n",
    "            keys += (\"\",)\n",
    "            \n",
    "        for key in keys:\n",
    "            self.listeners[key].append(listener)"
   ]
  },
  {
   "cell_type": "code",
   "execution_count": 23,
   "id": "a1f285d3",
   "metadata": {},
   "outputs": [
    {
     "name": "stdout",
     "output_type": "stream",
     "text": [
      "<class '__main__.MediatorItemAccess'>\n",
      "{'__module__': '__main__', '__qualname__': 'ConcreteMediator', 'name': <__main__.MediatorItemAccess object at 0x1084b8100>, 'age': <__main__.MediatorItemAccess object at 0x108ae2b50>, '__init__': <function DataMetaclass.__new__.<locals>.__init__ at 0x107e35a60>, '__copy__': <function DataMetaclass.__new__.<locals>.__copy__ at 0x107e35b80>, '__deepcopy__': <function DataMetaclass.__new__.<locals>.__deepcopy__ at 0x109344040>, '__iter__': <function DataMetaclass.__new__.<locals>.__iter__ at 0x1093440d0>, '__repr__': <function DataMetaclass.__new__.<locals>.__repr__ at 0x109344160>}\n"
     ]
    }
   ],
   "source": [
    "class ConcreteMediator(Mediator):\n",
    "    name: str = \"hello\"\n",
    "    age: int = -1"
   ]
  },
  {
   "cell_type": "code",
   "execution_count": 24,
   "id": "27d6cf86",
   "metadata": {},
   "outputs": [],
   "source": [
    "mediator = ConcreteMediator()\n",
    "\n",
    "class ConcreteListener(Listener):\n",
    "    def on_change(self, key: str, val: Any, **kwargs):\n",
    "        print(\"here\", key, val)\n",
    "        \n",
    "listener = ConcreteListener()\n",
    "mediator.add(listener, \"age\")"
   ]
  },
  {
   "cell_type": "code",
   "execution_count": 25,
   "id": "3b5f99cd",
   "metadata": {},
   "outputs": [],
   "source": [
    "mediator1 = ConcreteMediator()\n",
    "mediator2 = ConcreteMediator()"
   ]
  },
  {
   "cell_type": "code",
   "execution_count": 26,
   "id": "33697bde",
   "metadata": {},
   "outputs": [
    {
     "name": "stdout",
     "output_type": "stream",
     "text": [
      "ConcreteMediator(name=\"hello\", age=-1)\n",
      "here age -1\n"
     ]
    }
   ],
   "source": [
    "mediator.age = 1"
   ]
  },
  {
   "cell_type": "code",
   "execution_count": 20,
   "id": "4e33f270",
   "metadata": {},
   "outputs": [
    {
     "data": {
      "text/plain": [
       "defaultdict(list, {'age': [<__main__.ConcreteListener at 0x1084adca0>]})"
      ]
     },
     "execution_count": 20,
     "metadata": {},
     "output_type": "execute_result"
    }
   ],
   "source": [
    "mediator.listeners"
   ]
  },
  {
   "cell_type": "code",
   "execution_count": 11,
   "id": "462fba57",
   "metadata": {},
   "outputs": [
    {
     "data": {
      "text/plain": [
       "int"
      ]
     },
     "execution_count": 11,
     "metadata": {},
     "output_type": "execute_result"
    }
   ],
   "source": [
    "type(mediator.age)"
   ]
  },
  {
   "cell_type": "code",
   "execution_count": 80,
   "id": "30f37368",
   "metadata": {},
   "outputs": [
    {
     "data": {
      "text/plain": [
       "<property at 0x107cce6d0>"
      ]
     },
     "execution_count": 80,
     "metadata": {},
     "output_type": "execute_result"
    }
   ],
   "source": [
    "ConcreteListener.a"
   ]
  },
  {
   "cell_type": "code",
   "execution_count": null,
   "id": "bc940331",
   "metadata": {},
   "outputs": [],
   "source": []
  }
 ],
 "metadata": {
  "kernelspec": {
   "display_name": "Python 3 (ipykernel)",
   "language": "python",
   "name": "python3"
  },
  "language_info": {
   "codemirror_mode": {
    "name": "ipython",
    "version": 3
   },
   "file_extension": ".py",
   "mimetype": "text/x-python",
   "name": "python",
   "nbconvert_exporter": "python",
   "pygments_lexer": "ipython3",
   "version": "3.8.13"
  }
 },
 "nbformat": 4,
 "nbformat_minor": 5
}
