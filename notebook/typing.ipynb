{
 "cells": [
  {
   "cell_type": "code",
   "execution_count": 1,
   "id": "8865804e",
   "metadata": {},
   "outputs": [],
   "source": [
    "import inspect\n",
    "\n",
    "from typing import *\n",
    "from mousse import Dataclass, validate, parse, asclass, asdict"
   ]
  },
  {
   "cell_type": "code",
   "execution_count": 5,
   "id": "5c01355d",
   "metadata": {},
   "outputs": [],
   "source": [
    "class Foo(Dataclass):\n",
    "    name: str\n",
    "    age: int = 18\n",
    "        \n",
    "        \n",
    "class Bar(Dataclass):\n",
    "    foo: List[Foo]\n",
    "    name: str"
   ]
  },
  {
   "cell_type": "code",
   "execution_count": 6,
   "id": "7ee7b280",
   "metadata": {},
   "outputs": [
    {
     "data": {
      "text/plain": [
       "(Foo(name=\"dat\", age=18), Foo(name=\"aa\", age=18))"
      ]
     },
     "execution_count": 6,
     "metadata": {},
     "output_type": "execute_result"
    }
   ],
   "source": [
    "parse(Tuple[Foo, ...], [{\n",
    "    \"name\": \"dat\"\n",
    "}, {\n",
    "    \"name\": \"aa\"\n",
    "}])"
   ]
  },
  {
   "cell_type": "code",
   "execution_count": 8,
   "id": "a5ecc8f4",
   "metadata": {},
   "outputs": [
    {
     "data": {
      "text/plain": [
       "Bar(foo=[Foo(name=1, age=18)], name=\"day\")"
      ]
     },
     "execution_count": 8,
     "metadata": {},
     "output_type": "execute_result"
    }
   ],
   "source": [
    "asclass(Bar, {\"name\": \"day\", \"foo\": [{\"name\": 1}]})"
   ]
  },
  {
   "cell_type": "code",
   "execution_count": 53,
   "id": "2da08908",
   "metadata": {},
   "outputs": [],
   "source": [
    "signature = inspect.signature(foo)"
   ]
  },
  {
   "cell_type": "code",
   "execution_count": 57,
   "id": "f39d2975",
   "metadata": {},
   "outputs": [
    {
     "data": {
      "text/plain": [
       "inspect._empty"
      ]
     },
     "execution_count": 57,
     "metadata": {},
     "output_type": "execute_result"
    }
   ],
   "source": [
    "signature.return_annotation"
   ]
  },
  {
   "cell_type": "code",
   "execution_count": 7,
   "id": "f778bce0",
   "metadata": {},
   "outputs": [
    {
     "data": {
      "text/plain": [
       "(str,)"
      ]
     },
     "execution_count": 7,
     "metadata": {},
     "output_type": "execute_result"
    }
   ],
   "source": [
    "get_args(Iterable[str])"
   ]
  },
  {
   "cell_type": "code",
   "execution_count": 68,
   "id": "a57b1341",
   "metadata": {},
   "outputs": [
    {
     "data": {
      "text/plain": [
       "['Accessor',\n",
       " 'AutoRegistry',\n",
       " 'Dataclass',\n",
       " 'Field',\n",
       " 'Listener',\n",
       " 'Mediator',\n",
       " 'ObjectPool',\n",
       " 'Parser',\n",
       " 'Registry',\n",
       " 'Singleton',\n",
       " 'Validator',\n",
       " 'add_handler',\n",
       " 'asdict',\n",
       " 'init_logger',\n",
       " 'log_error',\n",
       " 'log_time',\n",
       " 'object_pool',\n",
       " 'register',\n",
       " 'singleton',\n",
       " 'validate',\n",
       " 'validator']"
      ]
     },
     "execution_count": 68,
     "metadata": {},
     "output_type": "execute_result"
    }
   ],
   "source": [
    "get_ipython"
   ]
  },
  {
   "cell_type": "code",
   "execution_count": 8,
   "id": "9288c82e",
   "metadata": {},
   "outputs": [
    {
     "data": {
      "text/plain": [
       "True"
      ]
     },
     "execution_count": 8,
     "metadata": {},
     "output_type": "execute_result"
    }
   ],
   "source": [
    "isinstance(range(5), Iterable)"
   ]
  },
  {
   "cell_type": "code",
   "execution_count": 51,
   "id": "5f61da38",
   "metadata": {},
   "outputs": [],
   "source": [
    "def solution(input_str):\n",
    "    p = input_str.split('.')\n",
    "    return len(p) == 4 and all(n.isdigit() and (n == \"0\" or not n.startswith(\"0\")) and 0 <= int(n) < 256 for n in p)"
   ]
  },
  {
   "cell_type": "code",
   "execution_count": 54,
   "id": "48dd37e1",
   "metadata": {},
   "outputs": [
    {
     "data": {
      "text/plain": [
       "True"
      ]
     },
     "execution_count": 54,
     "metadata": {},
     "output_type": "execute_result"
    }
   ],
   "source": [
    "solution(\"1.1.1.4\")"
   ]
  },
  {
   "cell_type": "code",
   "execution_count": 19,
   "id": "612fc544",
   "metadata": {},
   "outputs": [],
   "source": [
    "def tennis_set(score1, score2):\n",
    "    if score1 == 6 and score2 < 5:\n",
    "        return True\n",
    "    \n",
    "    if score2 == 6 and score1 < 5:\n",
    "        return True\n",
    "    \n",
    "    if score1 >= 5 and score2 >=5:\n",
    "        if score1 == 7 or score2 == 7 and score1 != score2:\n",
    "            return True\n",
    "        else:\n",
    "            return False\n",
    "        \n",
    "    return False"
   ]
  },
  {
   "cell_type": "code",
   "execution_count": 43,
   "id": "d166a6e2",
   "metadata": {},
   "outputs": [
    {
     "data": {
      "text/plain": [
       "False"
      ]
     },
     "execution_count": 43,
     "metadata": {},
     "output_type": "execute_result"
    }
   ],
   "source": [
    "False ^ False"
   ]
  },
  {
   "cell_type": "code",
   "execution_count": 45,
   "id": "c42a9fce",
   "metadata": {},
   "outputs": [
    {
     "data": {
      "text/plain": [
       "False"
      ]
     },
     "execution_count": 45,
     "metadata": {},
     "output_type": "execute_result"
    }
   ],
   "source": [
    "int(\"0\") > 0 ^ \"0\".startswith(\"0\")"
   ]
  },
  {
   "cell_type": "code",
   "execution_count": 48,
   "id": "954c8a6d",
   "metadata": {},
   "outputs": [],
   "source": [
    "n = \"01\""
   ]
  },
  {
   "cell_type": "code",
   "execution_count": 50,
   "id": "f5ce095f",
   "metadata": {},
   "outputs": [
    {
     "data": {
      "text/plain": [
       "False"
      ]
     },
     "execution_count": 50,
     "metadata": {},
     "output_type": "execute_result"
    }
   ],
   "source": [
    "(n != \"0\") ^ n.startswith(\"0\")"
   ]
  },
  {
   "cell_type": "code",
   "execution_count": 60,
   "id": "910491d7",
   "metadata": {},
   "outputs": [],
   "source": [
    "class Foo(BaseModel):\n",
    "    name: str"
   ]
  },
  {
   "cell_type": "code",
   "execution_count": 61,
   "id": "6a4a2a30",
   "metadata": {},
   "outputs": [
    {
     "data": {
      "text/plain": [
       "[Foo(name='dat')]"
      ]
     },
     "execution_count": 61,
     "metadata": {},
     "output_type": "execute_result"
    }
   ],
   "source": [
    "parse_obj_as(List[Foo], [{\"name\": \"dat\"}])"
   ]
  },
  {
   "cell_type": "code",
   "execution_count": 62,
   "id": "54d0d0ef",
   "metadata": {},
   "outputs": [
    {
     "ename": "TypeError",
     "evalue": "Subscripted generics cannot be used with class and instance checks",
     "output_type": "error",
     "traceback": [
      "\u001b[0;31m---------------------------------------------------------------------------\u001b[0m",
      "\u001b[0;31mTypeError\u001b[0m                                 Traceback (most recent call last)",
      "Input \u001b[0;32mIn [62]\u001b[0m, in \u001b[0;36m<cell line: 1>\u001b[0;34m()\u001b[0m\n\u001b[0;32m----> 1\u001b[0m \u001b[38;5;28;43misinstance\u001b[39;49m\u001b[43m(\u001b[49m\u001b[43m[\u001b[49m\u001b[38;5;241;43m1\u001b[39;49m\u001b[43m]\u001b[49m\u001b[43m,\u001b[49m\u001b[43m \u001b[49m\u001b[43mList\u001b[49m\u001b[43m[\u001b[49m\u001b[38;5;28;43mint\u001b[39;49m\u001b[43m]\u001b[49m\u001b[43m)\u001b[49m\n",
      "File \u001b[0;32m~/local/code/mousse/env/lib/python3.8/typing.py:769\u001b[0m, in \u001b[0;36m_GenericAlias.__instancecheck__\u001b[0;34m(self, obj)\u001b[0m\n\u001b[1;32m    768\u001b[0m \u001b[38;5;28;01mdef\u001b[39;00m \u001b[38;5;21m__instancecheck__\u001b[39m(\u001b[38;5;28mself\u001b[39m, obj):\n\u001b[0;32m--> 769\u001b[0m     \u001b[38;5;28;01mreturn\u001b[39;00m \u001b[38;5;28;43mself\u001b[39;49m\u001b[38;5;241;43m.\u001b[39;49m\u001b[38;5;21;43m__subclasscheck__\u001b[39;49m\u001b[43m(\u001b[49m\u001b[38;5;28;43mtype\u001b[39;49m\u001b[43m(\u001b[49m\u001b[43mobj\u001b[49m\u001b[43m)\u001b[49m\u001b[43m)\u001b[49m\n",
      "File \u001b[0;32m~/local/code/mousse/env/lib/python3.8/typing.py:777\u001b[0m, in \u001b[0;36m_GenericAlias.__subclasscheck__\u001b[0;34m(self, cls)\u001b[0m\n\u001b[1;32m    775\u001b[0m     \u001b[38;5;28;01mif\u001b[39;00m \u001b[38;5;28mcls\u001b[39m\u001b[38;5;241m.\u001b[39m_special:\n\u001b[1;32m    776\u001b[0m         \u001b[38;5;28;01mreturn\u001b[39;00m \u001b[38;5;28missubclass\u001b[39m(\u001b[38;5;28mcls\u001b[39m\u001b[38;5;241m.\u001b[39m__origin__, \u001b[38;5;28mself\u001b[39m\u001b[38;5;241m.\u001b[39m__origin__)\n\u001b[0;32m--> 777\u001b[0m \u001b[38;5;28;01mraise\u001b[39;00m \u001b[38;5;167;01mTypeError\u001b[39;00m(\u001b[38;5;124m\"\u001b[39m\u001b[38;5;124mSubscripted generics cannot be used with\u001b[39m\u001b[38;5;124m\"\u001b[39m\n\u001b[1;32m    778\u001b[0m                 \u001b[38;5;124m\"\u001b[39m\u001b[38;5;124m class and instance checks\u001b[39m\u001b[38;5;124m\"\u001b[39m)\n",
      "\u001b[0;31mTypeError\u001b[0m: Subscripted generics cannot be used with class and instance checks"
     ]
    }
   ],
   "source": [
    "isinstance([1], List[int])"
   ]
  },
  {
   "cell_type": "code",
   "execution_count": 67,
   "id": "6f4d2a4f",
   "metadata": {},
   "outputs": [
    {
     "data": {
      "text/plain": [
       "(int, NoneType)"
      ]
     },
     "execution_count": 67,
     "metadata": {},
     "output_type": "execute_result"
    }
   ],
   "source": [
    "get_args(Optional[int])"
   ]
  },
  {
   "cell_type": "code",
   "execution_count": 73,
   "id": "5fca15d2",
   "metadata": {},
   "outputs": [
    {
     "data": {
      "text/plain": [
       "{'_inst': True,\n",
       " '_special': False,\n",
       " '_name': None,\n",
       " '__origin__': typing.Union,\n",
       " '__args__': (int, float),\n",
       " '__parameters__': (),\n",
       " '__slots__': None,\n",
       " '__module__': 'typing'}"
      ]
     },
     "execution_count": 73,
     "metadata": {},
     "output_type": "execute_result"
    }
   ],
   "source": [
    "Union[int, float].__dict__"
   ]
  },
  {
   "cell_type": "code",
   "execution_count": 76,
   "id": "02fb4407",
   "metadata": {},
   "outputs": [
    {
     "data": {
      "text/plain": [
       "list"
      ]
     },
     "execution_count": 76,
     "metadata": {},
     "output_type": "execute_result"
    }
   ],
   "source": [
    "get_origin(List[str])"
   ]
  },
  {
   "cell_type": "code",
   "execution_count": null,
   "id": "a343ae1f",
   "metadata": {},
   "outputs": [],
   "source": []
  }
 ],
 "metadata": {
  "kernelspec": {
   "display_name": "Python 3 (ipykernel)",
   "language": "python",
   "name": "python3"
  },
  "language_info": {
   "codemirror_mode": {
    "name": "ipython",
    "version": 3
   },
   "file_extension": ".py",
   "mimetype": "text/x-python",
   "name": "python",
   "nbconvert_exporter": "python",
   "pygments_lexer": "ipython3",
   "version": "3.8.13"
  }
 },
 "nbformat": 4,
 "nbformat_minor": 5
}
