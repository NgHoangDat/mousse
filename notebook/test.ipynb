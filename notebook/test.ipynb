{
 "cells": [
  {
   "cell_type": "code",
   "execution_count": 1,
   "metadata": {},
   "outputs": [],
   "source": [
    "from typing import *\n",
    "from mousse import Dataclass, asdict, validate, parse"
   ]
  },
  {
   "cell_type": "code",
   "execution_count": 2,
   "metadata": {},
   "outputs": [],
   "source": [
    "class Foo(Dataclass):\n",
    "    name: str"
   ]
  },
  {
   "cell_type": "code",
   "execution_count": 3,
   "metadata": {},
   "outputs": [],
   "source": [
    "a = Foo(name='bar')"
   ]
  },
  {
   "cell_type": "code",
   "execution_count": 7,
   "metadata": {},
   "outputs": [
    {
     "data": {
      "text/plain": [
       "True"
      ]
     },
     "execution_count": 7,
     "metadata": {},
     "output_type": "execute_result"
    }
   ],
   "source": [
    "validate(Tuple[int, float], (1, 2.0))"
   ]
  },
  {
   "cell_type": "code",
   "execution_count": 8,
   "metadata": {},
   "outputs": [
    {
     "data": {
      "text/plain": [
       "['Accessor',\n",
       " 'AutoRegistry',\n",
       " 'Config',\n",
       " 'Dataclass',\n",
       " 'Field',\n",
       " 'Listener',\n",
       " 'Mediator',\n",
       " 'ObjectPool',\n",
       " 'Parser',\n",
       " 'Registry',\n",
       " 'Scheduler',\n",
       " 'Singleton',\n",
       " 'Validator',\n",
       " 'add_handler',\n",
       " 'asclass',\n",
       " 'asdict',\n",
       " 'call_after',\n",
       " 'call_at',\n",
       " 'export',\n",
       " 'export_instance',\n",
       " 'export_subclass',\n",
       " 'get_config',\n",
       " 'init_logger',\n",
       " 'load_config',\n",
       " 'log_error',\n",
       " 'log_time',\n",
       " 'object_pool',\n",
       " 'parse',\n",
       " 'parser',\n",
       " 'register',\n",
       " 'singleton',\n",
       " 'validate',\n",
       " 'validator']"
      ]
     },
     "execution_count": 8,
     "metadata": {},
     "output_type": "execute_result"
    }
   ],
   "source": [
    "sorted([\n",
    "    \"Config\",\n",
    "    \"get_config\",\n",
    "    \"load_config\",\n",
    "    \"Accessor\",\n",
    "    \"AutoRegistry\",\n",
    "    \"Dataclass\",\n",
    "    \"Field\",\n",
    "    \"Listener\",\n",
    "    \"Mediator\",\n",
    "    \"ObjectPool\",\n",
    "    \"Parser\",\n",
    "    \"Registry\",\n",
    "    \"Singleton\",\n",
    "    \"Validator\",\n",
    "    \"add_handler\",\n",
    "    \"asclass\",\n",
    "    \"asdict\",\n",
    "    \"init_logger\",\n",
    "    \"log_error\",\n",
    "    \"log_time\",\n",
    "    \"object_pool\",\n",
    "    \"parse\",\n",
    "    \"parser\",\n",
    "    \"register\",\n",
    "    \"singleton\",\n",
    "    \"validate\",\n",
    "    \"validator\",\n",
    "    \"export\",\n",
    "    \"export_subclass\",\n",
    "    \"export_instance\",\n",
    "    \"Scheduler\",\n",
    "    \"call_at\",\n",
    "    \"call_after\",\n",
    "])"
   ]
  },
  {
   "cell_type": "code",
   "execution_count": null,
   "metadata": {},
   "outputs": [],
   "source": []
  }
 ],
 "metadata": {
  "interpreter": {
   "hash": "2dac2f810068e03a016627763816db69b0a1e0855dd0876fe803a96973a71e3a"
  },
  "kernelspec": {
   "display_name": "Python 3.6.15",
   "language": "python",
   "name": "python3"
  },
  "language_info": {
   "codemirror_mode": {
    "name": "ipython",
    "version": 3
   },
   "file_extension": ".py",
   "mimetype": "text/x-python",
   "name": "python",
   "nbconvert_exporter": "python",
   "pygments_lexer": "ipython3",
   "version": "3.6.15"
  },
  "orig_nbformat": 4
 },
 "nbformat": 4,
 "nbformat_minor": 2
}
