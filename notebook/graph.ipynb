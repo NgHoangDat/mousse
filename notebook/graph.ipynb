{
 "cells": [
  {
   "cell_type": "code",
   "execution_count": null,
   "id": "a9a34768",
   "metadata": {},
   "outputs": [],
   "source": [
    "graph1 = n1 >> n2\n",
    "graph2 = n3 >> n2\n",
    "graph3 = pipe(graph1, graph2) >> pack(graph1, graph2) >>  "
   ]
  }
 ],
 "metadata": {
  "kernelspec": {
   "display_name": "Python 3 (ipykernel)",
   "language": "python",
   "name": "python3"
  },
  "language_info": {
   "codemirror_mode": {
    "name": "ipython",
    "version": 3
   },
   "file_extension": ".py",
   "mimetype": "text/x-python",
   "name": "python",
   "nbconvert_exporter": "python",
   "pygments_lexer": "ipython3",
   "version": "3.8.13"
  }
 },
 "nbformat": 4,
 "nbformat_minor": 5
}
