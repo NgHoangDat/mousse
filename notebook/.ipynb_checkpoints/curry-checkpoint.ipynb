{
 "cells": [
  {
   "cell_type": "code",
   "execution_count": 67,
   "id": "22aaa2c1",
   "metadata": {},
   "outputs": [],
   "source": [
    "import inspect\n",
    "from functools import partial, wraps\n",
    "from typing import *"
   ]
  },
  {
   "cell_type": "code",
   "execution_count": 74,
   "id": "c169ff86",
   "metadata": {},
   "outputs": [],
   "source": [
    "class Curry:\n",
    "    def __init__(self, func: Callable):\n",
    "        self._func = func\n",
    "    \n",
    "    def __call__(self, *args, **kwargs):\n",
    "        func = partial(self._func, *args, **kwargs)\n",
    "        signature = inspect.signature(func)\n",
    "        \n",
    "        is_ready = True\n",
    "        for param in signature.parameters.values():\n",
    "            if param.kind in (param.POSITIONAL_ONLY, param.POSITIONAL_OR_KEYWORD) \\\n",
    "            and param.default == param.empty:\n",
    "                is_ready = False\n",
    "                \n",
    "        if is_ready:\n",
    "            return func()\n",
    "            \n",
    "        return Curry(func)\n",
    "    \n",
    "    def call(self, *args, **kwargs):\n",
    "        return self._func(*args, **kwargs)\n",
    "    \n",
    "    @property\n",
    "    def signature(self):\n",
    "        return inspect.signature(self._func)\n",
    "    \n",
    "    @property\n",
    "    def __signature__(self):\n",
    "        return self.signature\n",
    "    \n",
    "    def __and__(self, other: \"Curry\"):\n",
    "        assert self.signature.return_annotation == bool, \"Only apply to return annotation type bool\"\n",
    "        assert other.signature.return_annotation == bool, \"Only apply to return annotation type bool\"\n",
    "        \n",
    "        def wrapper(*args, **kwargs) -> bool:\n",
    "            if not self.call(*args, **kwargs):\n",
    "                return False\n",
    "            \n",
    "            if not other.call(*args, **kwargs):\n",
    "                return False\n",
    "            \n",
    "            return True\n",
    "        \n",
    "        return Curry(wrapper)\n",
    "    \n",
    "    def __or__(self, other: \"Curry\"):\n",
    "        assert self.signature.return_annotation == bool, \"Only apply to return annotation type bool\"\n",
    "        assert other.signature.return_annotation == bool, \"Only apply to return annotation type bool\"\n",
    "        \n",
    "        def wrapper(*args, **kwargs) -> bool:\n",
    "            if self.call(*args, **kwargs):\n",
    "                return True\n",
    "            \n",
    "            if other.call(*args, **kwargs):\n",
    "                return True\n",
    "            \n",
    "            return False\n",
    "        \n",
    "        return Curry(wrapper)\n",
    "    \n",
    "def curry(func: Callable):\n",
    "    return Curry(func)"
   ]
  },
  {
   "cell_type": "code",
   "execution_count": 76,
   "id": "b0f07a81",
   "metadata": {},
   "outputs": [],
   "source": [
    "@curry\n",
    "def is_numeric(text: str) -> bool:\n",
    "    return text.isnumeric()\n",
    "\n",
    "\n",
    "@curry\n",
    "def gte(val: Any, tar: float) -> bool:\n",
    "    return float(val) >= tar"
   ]
  },
  {
   "cell_type": "code",
   "execution_count": 78,
   "id": "b27711a1",
   "metadata": {},
   "outputs": [],
   "source": [
    "comparator = is_numeric & gte(tar=10)"
   ]
  },
  {
   "cell_type": "code",
   "execution_count": 84,
   "id": "94937015",
   "metadata": {},
   "outputs": [
    {
     "data": {
      "text/plain": [
       "False"
      ]
     },
     "execution_count": 84,
     "metadata": {},
     "output_type": "execute_result"
    }
   ],
   "source": [
    "comparator(\"9x\")"
   ]
  },
  {
   "cell_type": "code",
   "execution_count": 39,
   "id": "2046609b",
   "metadata": {},
   "outputs": [
    {
     "name": "stdout",
     "output_type": "stream",
     "text": [
      "False\n",
      "True\n",
      "True\n"
     ]
    }
   ],
   "source": [
    "for param in inspect.signature(partial(foo, \"a\")).parameters.values():\n",
    "    print(param.default == param.empty)"
   ]
  },
  {
   "cell_type": "code",
   "execution_count": 65,
   "id": "de6bf238",
   "metadata": {},
   "outputs": [],
   "source": [
    "sig = inspect.signature(foo)"
   ]
  },
  {
   "cell_type": "code",
   "execution_count": 66,
   "id": "bb850f94",
   "metadata": {},
   "outputs": [
    {
     "data": {
      "text/plain": [
       "str"
      ]
     },
     "execution_count": 66,
     "metadata": {},
     "output_type": "execute_result"
    }
   ],
   "source": [
    "sig.return_annotation"
   ]
  },
  {
   "cell_type": "code",
   "execution_count": null,
   "id": "d545f901",
   "metadata": {},
   "outputs": [],
   "source": []
  }
 ],
 "metadata": {
  "kernelspec": {
   "display_name": "Python 3 (ipykernel)",
   "language": "python",
   "name": "python3"
  },
  "language_info": {
   "codemirror_mode": {
    "name": "ipython",
    "version": 3
   },
   "file_extension": ".py",
   "mimetype": "text/x-python",
   "name": "python",
   "nbconvert_exporter": "python",
   "pygments_lexer": "ipython3",
   "version": "3.8.13"
  }
 },
 "nbformat": 4,
 "nbformat_minor": 5
}
